{
 "cells": [
  {
   "cell_type": "markdown",
   "metadata": {},
   "source": [
    "## MetaCost\n",
    "\n",
    "[Machine Learning with Imbalanced Data - Course](https://www.trainindata.com/p/machine-learning-with-imbalanced-data)\n"
   ]
  },
  {
   "cell_type": "code",
   "execution_count": 1,
   "metadata": {},
   "outputs": [],
   "source": [
    "import numpy as np\n",
    "import pandas as pd\n",
    "\n",
    "from sklearn.linear_model import LogisticRegression\n",
    "from sklearn.metrics import roc_auc_score\n",
    "from sklearn.model_selection import train_test_split\n",
    "from metacost import MetaCost"
   ]
  },
  {
   "cell_type": "code",
   "execution_count": 2,
   "metadata": {},
   "outputs": [
    {
     "data": {
      "text/html": [
       "<div>\n",
       "<style scoped>\n",
       "    .dataframe tbody tr th:only-of-type {\n",
       "        vertical-align: middle;\n",
       "    }\n",
       "\n",
       "    .dataframe tbody tr th {\n",
       "        vertical-align: top;\n",
       "    }\n",
       "\n",
       "    .dataframe thead th {\n",
       "        text-align: right;\n",
       "    }\n",
       "</style>\n",
       "<table border=\"1\" class=\"dataframe\">\n",
       "  <thead>\n",
       "    <tr style=\"text-align: right;\">\n",
       "      <th></th>\n",
       "      <th>0</th>\n",
       "      <th>1</th>\n",
       "      <th>2</th>\n",
       "      <th>3</th>\n",
       "      <th>4</th>\n",
       "      <th>5</th>\n",
       "      <th>6</th>\n",
       "      <th>7</th>\n",
       "      <th>8</th>\n",
       "      <th>9</th>\n",
       "      <th>...</th>\n",
       "      <th>65</th>\n",
       "      <th>66</th>\n",
       "      <th>67</th>\n",
       "      <th>68</th>\n",
       "      <th>69</th>\n",
       "      <th>70</th>\n",
       "      <th>71</th>\n",
       "      <th>72</th>\n",
       "      <th>73</th>\n",
       "      <th>target</th>\n",
       "    </tr>\n",
       "  </thead>\n",
       "  <tbody>\n",
       "    <tr>\n",
       "      <th>8006</th>\n",
       "      <td>49.58</td>\n",
       "      <td>28.33</td>\n",
       "      <td>-0.42</td>\n",
       "      <td>18.0</td>\n",
       "      <td>80.5</td>\n",
       "      <td>4655.8</td>\n",
       "      <td>-0.72</td>\n",
       "      <td>0.25</td>\n",
       "      <td>-13.5</td>\n",
       "      <td>-101.5</td>\n",
       "      <td>...</td>\n",
       "      <td>5504.9</td>\n",
       "      <td>0.29</td>\n",
       "      <td>0.58</td>\n",
       "      <td>-18.0</td>\n",
       "      <td>-109.0</td>\n",
       "      <td>1020.0</td>\n",
       "      <td>1.00</td>\n",
       "      <td>0.19</td>\n",
       "      <td>0.12</td>\n",
       "      <td>0</td>\n",
       "    </tr>\n",
       "    <tr>\n",
       "      <th>31947</th>\n",
       "      <td>66.20</td>\n",
       "      <td>22.04</td>\n",
       "      <td>1.09</td>\n",
       "      <td>31.0</td>\n",
       "      <td>128.0</td>\n",
       "      <td>4352.3</td>\n",
       "      <td>0.68</td>\n",
       "      <td>1.29</td>\n",
       "      <td>3.5</td>\n",
       "      <td>-90.0</td>\n",
       "      <td>...</td>\n",
       "      <td>6144.8</td>\n",
       "      <td>-0.35</td>\n",
       "      <td>1.17</td>\n",
       "      <td>-4.0</td>\n",
       "      <td>-139.0</td>\n",
       "      <td>759.0</td>\n",
       "      <td>0.28</td>\n",
       "      <td>0.34</td>\n",
       "      <td>0.81</td>\n",
       "      <td>0</td>\n",
       "    </tr>\n",
       "    <tr>\n",
       "      <th>132826</th>\n",
       "      <td>33.54</td>\n",
       "      <td>29.09</td>\n",
       "      <td>-1.20</td>\n",
       "      <td>-26.0</td>\n",
       "      <td>39.0</td>\n",
       "      <td>1711.6</td>\n",
       "      <td>-0.39</td>\n",
       "      <td>-0.08</td>\n",
       "      <td>3.0</td>\n",
       "      <td>-62.5</td>\n",
       "      <td>...</td>\n",
       "      <td>1413.7</td>\n",
       "      <td>1.45</td>\n",
       "      <td>1.35</td>\n",
       "      <td>-9.0</td>\n",
       "      <td>-38.0</td>\n",
       "      <td>150.8</td>\n",
       "      <td>0.69</td>\n",
       "      <td>0.16</td>\n",
       "      <td>0.48</td>\n",
       "      <td>0</td>\n",
       "    </tr>\n",
       "    <tr>\n",
       "      <th>116503</th>\n",
       "      <td>66.29</td>\n",
       "      <td>24.29</td>\n",
       "      <td>1.13</td>\n",
       "      <td>10.0</td>\n",
       "      <td>-14.0</td>\n",
       "      <td>2728.3</td>\n",
       "      <td>-0.86</td>\n",
       "      <td>0.52</td>\n",
       "      <td>20.5</td>\n",
       "      <td>-98.0</td>\n",
       "      <td>...</td>\n",
       "      <td>3121.3</td>\n",
       "      <td>-0.73</td>\n",
       "      <td>-1.10</td>\n",
       "      <td>2.0</td>\n",
       "      <td>-64.0</td>\n",
       "      <td>545.9</td>\n",
       "      <td>1.22</td>\n",
       "      <td>0.23</td>\n",
       "      <td>-0.18</td>\n",
       "      <td>0</td>\n",
       "    </tr>\n",
       "    <tr>\n",
       "      <th>90210</th>\n",
       "      <td>47.00</td>\n",
       "      <td>25.81</td>\n",
       "      <td>-0.43</td>\n",
       "      <td>-17.0</td>\n",
       "      <td>93.0</td>\n",
       "      <td>4490.9</td>\n",
       "      <td>-0.92</td>\n",
       "      <td>-0.10</td>\n",
       "      <td>-3.0</td>\n",
       "      <td>-94.0</td>\n",
       "      <td>...</td>\n",
       "      <td>5261.1</td>\n",
       "      <td>-2.20</td>\n",
       "      <td>-2.67</td>\n",
       "      <td>-5.0</td>\n",
       "      <td>-58.0</td>\n",
       "      <td>738.1</td>\n",
       "      <td>0.51</td>\n",
       "      <td>0.47</td>\n",
       "      <td>0.42</td>\n",
       "      <td>0</td>\n",
       "    </tr>\n",
       "  </tbody>\n",
       "</table>\n",
       "<p>5 rows × 75 columns</p>\n",
       "</div>"
      ],
      "text/plain": [
       "            0      1     2     3      4       5     6     7     8      9  ...  \\\n",
       "8006    49.58  28.33 -0.42  18.0   80.5  4655.8 -0.72  0.25 -13.5 -101.5  ...   \n",
       "31947   66.20  22.04  1.09  31.0  128.0  4352.3  0.68  1.29   3.5  -90.0  ...   \n",
       "132826  33.54  29.09 -1.20 -26.0   39.0  1711.6 -0.39 -0.08   3.0  -62.5  ...   \n",
       "116503  66.29  24.29  1.13  10.0  -14.0  2728.3 -0.86  0.52  20.5  -98.0  ...   \n",
       "90210   47.00  25.81 -0.43 -17.0   93.0  4490.9 -0.92 -0.10  -3.0  -94.0  ...   \n",
       "\n",
       "            65    66    67    68     69      70    71    72    73  target  \n",
       "8006    5504.9  0.29  0.58 -18.0 -109.0  1020.0  1.00  0.19  0.12       0  \n",
       "31947   6144.8 -0.35  1.17  -4.0 -139.0   759.0  0.28  0.34  0.81       0  \n",
       "132826  1413.7  1.45  1.35  -9.0  -38.0   150.8  0.69  0.16  0.48       0  \n",
       "116503  3121.3 -0.73 -1.10   2.0  -64.0   545.9  1.22  0.23 -0.18       0  \n",
       "90210   5261.1 -2.20 -2.67  -5.0  -58.0   738.1  0.51  0.47  0.42       0  \n",
       "\n",
       "[5 rows x 75 columns]"
      ]
     },
     "execution_count": 2,
     "metadata": {},
     "output_type": "execute_result"
    }
   ],
   "source": [
    "# load data\n",
    "# only a few observations to speed the computaton\n",
    "\n",
    "data = pd.read_csv('../kdd2004.csv').sample(10000)\n",
    "\n",
    "# remap target class to 0 and 1\n",
    "data['target'] = data['target'].map({-1:0, 1:1})\n",
    "\n",
    "data.head()"
   ]
  },
  {
   "cell_type": "code",
   "execution_count": 3,
   "metadata": {},
   "outputs": [
    {
     "data": {
      "text/plain": [
       "target\n",
       "0    0.9925\n",
       "1    0.0075\n",
       "Name: count, dtype: float64"
      ]
     },
     "execution_count": 3,
     "metadata": {},
     "output_type": "execute_result"
    }
   ],
   "source": [
    "# imbalanced target\n",
    "\n",
    "data.target.value_counts() / len(data)"
   ]
  },
  {
   "cell_type": "code",
   "execution_count": 4,
   "metadata": {},
   "outputs": [
    {
     "data": {
      "text/plain": [
       "((7000, 74), (3000, 74))"
      ]
     },
     "execution_count": 4,
     "metadata": {},
     "output_type": "execute_result"
    }
   ],
   "source": [
    "# separate dataset into train and test\n",
    "\n",
    "X_train, X_test, y_train, y_test = train_test_split(\n",
    "    data.drop(labels=['target'], axis=1),  # drop the target\n",
    "    data['target'],  # just the target\n",
    "    test_size=0.3,\n",
    "    random_state=0)\n",
    "\n",
    "X_train.shape, X_test.shape"
   ]
  },
  {
   "cell_type": "code",
   "execution_count": 5,
   "metadata": {},
   "outputs": [
    {
     "data": {
      "text/html": [
       "<div>\n",
       "<style scoped>\n",
       "    .dataframe tbody tr th:only-of-type {\n",
       "        vertical-align: middle;\n",
       "    }\n",
       "\n",
       "    .dataframe tbody tr th {\n",
       "        vertical-align: top;\n",
       "    }\n",
       "\n",
       "    .dataframe thead th {\n",
       "        text-align: right;\n",
       "    }\n",
       "</style>\n",
       "<table border=\"1\" class=\"dataframe\">\n",
       "  <thead>\n",
       "    <tr style=\"text-align: right;\">\n",
       "      <th></th>\n",
       "      <th>0</th>\n",
       "      <th>1</th>\n",
       "      <th>2</th>\n",
       "      <th>3</th>\n",
       "      <th>4</th>\n",
       "      <th>5</th>\n",
       "      <th>6</th>\n",
       "      <th>7</th>\n",
       "      <th>8</th>\n",
       "      <th>9</th>\n",
       "      <th>...</th>\n",
       "      <th>64</th>\n",
       "      <th>65</th>\n",
       "      <th>66</th>\n",
       "      <th>67</th>\n",
       "      <th>68</th>\n",
       "      <th>69</th>\n",
       "      <th>70</th>\n",
       "      <th>71</th>\n",
       "      <th>72</th>\n",
       "      <th>73</th>\n",
       "    </tr>\n",
       "  </thead>\n",
       "  <tbody>\n",
       "    <tr>\n",
       "      <th>111157</th>\n",
       "      <td>76.39</td>\n",
       "      <td>26.06</td>\n",
       "      <td>0.27</td>\n",
       "      <td>25.0</td>\n",
       "      <td>-39.5</td>\n",
       "      <td>1435.6</td>\n",
       "      <td>0.60</td>\n",
       "      <td>0.90</td>\n",
       "      <td>25.0</td>\n",
       "      <td>-108.0</td>\n",
       "      <td>...</td>\n",
       "      <td>93.0</td>\n",
       "      <td>916.2</td>\n",
       "      <td>2.09</td>\n",
       "      <td>3.60</td>\n",
       "      <td>4.0</td>\n",
       "      <td>-39.0</td>\n",
       "      <td>125.9</td>\n",
       "      <td>0.34</td>\n",
       "      <td>0.53</td>\n",
       "      <td>0.69</td>\n",
       "    </tr>\n",
       "    <tr>\n",
       "      <th>19751</th>\n",
       "      <td>86.76</td>\n",
       "      <td>25.42</td>\n",
       "      <td>0.13</td>\n",
       "      <td>27.5</td>\n",
       "      <td>-12.0</td>\n",
       "      <td>1302.5</td>\n",
       "      <td>1.14</td>\n",
       "      <td>-0.15</td>\n",
       "      <td>-5.0</td>\n",
       "      <td>-88.5</td>\n",
       "      <td>...</td>\n",
       "      <td>-55.0</td>\n",
       "      <td>1870.0</td>\n",
       "      <td>-0.87</td>\n",
       "      <td>0.70</td>\n",
       "      <td>14.0</td>\n",
       "      <td>-96.0</td>\n",
       "      <td>740.0</td>\n",
       "      <td>0.25</td>\n",
       "      <td>0.42</td>\n",
       "      <td>0.70</td>\n",
       "    </tr>\n",
       "    <tr>\n",
       "      <th>23652</th>\n",
       "      <td>46.30</td>\n",
       "      <td>28.00</td>\n",
       "      <td>-2.57</td>\n",
       "      <td>-80.5</td>\n",
       "      <td>67.5</td>\n",
       "      <td>2762.4</td>\n",
       "      <td>-2.00</td>\n",
       "      <td>-1.00</td>\n",
       "      <td>-12.0</td>\n",
       "      <td>-68.0</td>\n",
       "      <td>...</td>\n",
       "      <td>-65.0</td>\n",
       "      <td>1379.7</td>\n",
       "      <td>1.32</td>\n",
       "      <td>1.65</td>\n",
       "      <td>15.0</td>\n",
       "      <td>-115.0</td>\n",
       "      <td>844.9</td>\n",
       "      <td>0.55</td>\n",
       "      <td>0.38</td>\n",
       "      <td>0.11</td>\n",
       "    </tr>\n",
       "    <tr>\n",
       "      <th>127291</th>\n",
       "      <td>68.70</td>\n",
       "      <td>23.75</td>\n",
       "      <td>-0.85</td>\n",
       "      <td>-22.0</td>\n",
       "      <td>-4.5</td>\n",
       "      <td>734.3</td>\n",
       "      <td>-0.24</td>\n",
       "      <td>-0.47</td>\n",
       "      <td>-7.5</td>\n",
       "      <td>-50.5</td>\n",
       "      <td>...</td>\n",
       "      <td>78.0</td>\n",
       "      <td>256.3</td>\n",
       "      <td>1.72</td>\n",
       "      <td>1.13</td>\n",
       "      <td>-5.0</td>\n",
       "      <td>-31.0</td>\n",
       "      <td>132.2</td>\n",
       "      <td>0.71</td>\n",
       "      <td>0.49</td>\n",
       "      <td>0.22</td>\n",
       "    </tr>\n",
       "    <tr>\n",
       "      <th>92335</th>\n",
       "      <td>17.71</td>\n",
       "      <td>29.03</td>\n",
       "      <td>-1.57</td>\n",
       "      <td>-4.0</td>\n",
       "      <td>56.5</td>\n",
       "      <td>1511.3</td>\n",
       "      <td>0.35</td>\n",
       "      <td>-1.06</td>\n",
       "      <td>-14.5</td>\n",
       "      <td>-45.5</td>\n",
       "      <td>...</td>\n",
       "      <td>-11.0</td>\n",
       "      <td>1819.1</td>\n",
       "      <td>0.64</td>\n",
       "      <td>0.52</td>\n",
       "      <td>3.0</td>\n",
       "      <td>-54.0</td>\n",
       "      <td>561.6</td>\n",
       "      <td>0.79</td>\n",
       "      <td>0.31</td>\n",
       "      <td>-0.41</td>\n",
       "    </tr>\n",
       "  </tbody>\n",
       "</table>\n",
       "<p>5 rows × 74 columns</p>\n",
       "</div>"
      ],
      "text/plain": [
       "            0      1     2     3     4       5     6     7     8      9  ...  \\\n",
       "111157  76.39  26.06  0.27  25.0 -39.5  1435.6  0.60  0.90  25.0 -108.0  ...   \n",
       "19751   86.76  25.42  0.13  27.5 -12.0  1302.5  1.14 -0.15  -5.0  -88.5  ...   \n",
       "23652   46.30  28.00 -2.57 -80.5  67.5  2762.4 -2.00 -1.00 -12.0  -68.0  ...   \n",
       "127291  68.70  23.75 -0.85 -22.0  -4.5   734.3 -0.24 -0.47  -7.5  -50.5  ...   \n",
       "92335   17.71  29.03 -1.57  -4.0  56.5  1511.3  0.35 -1.06 -14.5  -45.5  ...   \n",
       "\n",
       "          64      65    66    67    68     69     70    71    72    73  \n",
       "111157  93.0   916.2  2.09  3.60   4.0  -39.0  125.9  0.34  0.53  0.69  \n",
       "19751  -55.0  1870.0 -0.87  0.70  14.0  -96.0  740.0  0.25  0.42  0.70  \n",
       "23652  -65.0  1379.7  1.32  1.65  15.0 -115.0  844.9  0.55  0.38  0.11  \n",
       "127291  78.0   256.3  1.72  1.13  -5.0  -31.0  132.2  0.71  0.49  0.22  \n",
       "92335  -11.0  1819.1  0.64  0.52   3.0  -54.0  561.6  0.79  0.31 -0.41  \n",
       "\n",
       "[5 rows x 74 columns]"
      ]
     },
     "execution_count": 5,
     "metadata": {},
     "output_type": "execute_result"
    }
   ],
   "source": [
    "X_train.head()"
   ]
  },
  {
   "cell_type": "markdown",
   "metadata": {},
   "source": [
    "## Set up Logistic regression"
   ]
  },
  {
   "cell_type": "code",
   "execution_count": 6,
   "metadata": {},
   "outputs": [],
   "source": [
    "# set up the estimator we would like to ensemble\n",
    "\n",
    "logit = LogisticRegression(\n",
    "    penalty='l2',\n",
    "    solver='newton-cg',\n",
    "    random_state=0,\n",
    "    max_iter=10,\n",
    "    n_jobs=4,\n",
    ")"
   ]
  },
  {
   "cell_type": "markdown",
   "metadata": {},
   "source": [
    "## MetaCost\n",
    "\n",
    "With no cost"
   ]
  },
  {
   "cell_type": "code",
   "execution_count": 7,
   "metadata": {},
   "outputs": [
    {
     "data": {
      "text/plain": [
       "array([[0, 1],\n",
       "       [1, 0]])"
      ]
     },
     "execution_count": 7,
     "metadata": {},
     "output_type": "execute_result"
    }
   ],
   "source": [
    "cost_matrix = np.array([[0, 1], [1, 0]])\n",
    "cost_matrix"
   ]
  },
  {
   "cell_type": "code",
   "execution_count": 8,
   "metadata": {},
   "outputs": [],
   "source": [
    "metacost_ = MetaCost(estimator=logit,\n",
    "                     cost_matrix=cost_matrix,\n",
    "                     n_estimators=50,\n",
    "                     n_samples=None,\n",
    "                     p=True,\n",
    "                     q=True)"
   ]
  },
  {
   "cell_type": "code",
   "execution_count": 9,
   "metadata": {},
   "outputs": [
    {
     "name": "stdout",
     "output_type": "stream",
     "text": [
      "resampling data and training ensemble\n",
      "Finished training ensemble\n",
      "evaluating optimal class per observation\n",
      "Finished re-assigning labels\n",
      "Training model on new data\n",
      "Finished training model on data with new labels\n"
     ]
    }
   ],
   "source": [
    "metacost_.fit(X_train, y_train)"
   ]
  },
  {
   "cell_type": "code",
   "execution_count": 10,
   "metadata": {},
   "outputs": [
    {
     "name": "stderr",
     "output_type": "stream",
     "text": [
      "C:\\Users\\Sole\\Documents\\Repositories\\envs\\fsml\\lib\\site-packages\\sklearn\\base.py:486: UserWarning: X has feature names, but LogisticRegression was fitted without feature names\n",
      "  warnings.warn(\n"
     ]
    },
    {
     "data": {
      "text/plain": [
       "array([[9.99997913e-01, 2.08735355e-06],\n",
       "       [9.99998795e-01, 1.20488327e-06],\n",
       "       [9.99999999e-01, 1.24888003e-09],\n",
       "       ...,\n",
       "       [9.97729720e-01, 2.27028034e-03],\n",
       "       [1.00000000e+00, 4.95571103e-11],\n",
       "       [9.99999998e-01, 1.80389541e-09]])"
      ]
     },
     "execution_count": 10,
     "metadata": {},
     "output_type": "execute_result"
    }
   ],
   "source": [
    "metacost_.predict_proba(X_train)"
   ]
  },
  {
   "cell_type": "code",
   "execution_count": 11,
   "metadata": {},
   "outputs": [
    {
     "name": "stdout",
     "output_type": "stream",
     "text": [
      "Train set\n",
      "MetaCost roc-auc: 0.9105563147295742\n",
      "Test set\n",
      "MetaCost roc-auc: 0.9059311582015921\n"
     ]
    },
    {
     "name": "stderr",
     "output_type": "stream",
     "text": [
      "C:\\Users\\Sole\\Documents\\Repositories\\envs\\fsml\\lib\\site-packages\\sklearn\\base.py:486: UserWarning: X has feature names, but LogisticRegression was fitted without feature names\n",
      "  warnings.warn(\n",
      "C:\\Users\\Sole\\Documents\\Repositories\\envs\\fsml\\lib\\site-packages\\sklearn\\base.py:486: UserWarning: X has feature names, but LogisticRegression was fitted without feature names\n",
      "  warnings.warn(\n"
     ]
    }
   ],
   "source": [
    "print('Train set')\n",
    "pred = metacost_.predict_proba(X_train)\n",
    "print(\n",
    "    'MetaCost roc-auc: {}'.format(roc_auc_score(y_train, pred[:, 1])))\n",
    "\n",
    "print('Test set')\n",
    "pred = metacost_.predict_proba(X_test)\n",
    "print(\n",
    "    'MetaCost roc-auc: {}'.format(roc_auc_score(y_test, pred[:, 1])))"
   ]
  },
  {
   "cell_type": "markdown",
   "metadata": {},
   "source": [
    "## MetaCost\n",
    "\n",
    "With costs\n",
    "\n",
    "TN | FN\n",
    " \n",
    "FP | TP"
   ]
  },
  {
   "cell_type": "code",
   "execution_count": 12,
   "metadata": {},
   "outputs": [
    {
     "data": {
      "text/plain": [
       "array([[  0, 100],\n",
       "       [  1,   0]])"
      ]
     },
     "execution_count": 12,
     "metadata": {},
     "output_type": "execute_result"
    }
   ],
   "source": [
    "cost_matrix = np.array([[0, 100], [1, 0]])\n",
    "cost_matrix"
   ]
  },
  {
   "cell_type": "code",
   "execution_count": 13,
   "metadata": {},
   "outputs": [],
   "source": [
    "metacost2 = MetaCost(estimator=logit,\n",
    "                     cost_matrix=cost_matrix,\n",
    "                     n_estimators=50,\n",
    "                     n_samples=None,\n",
    "                     p=True,\n",
    "                     q=True)"
   ]
  },
  {
   "cell_type": "code",
   "execution_count": 14,
   "metadata": {},
   "outputs": [
    {
     "name": "stdout",
     "output_type": "stream",
     "text": [
      "resampling data and training ensemble\n",
      "Finished training ensemble\n",
      "evaluating optimal class per observation\n",
      "Finished re-assigning labels\n",
      "Training model on new data\n",
      "Finished training model on data with new labels\n",
      "Train set\n",
      "MetaCost roc-auc: 0.9387196729957805\n",
      "Test set\n",
      "MetaCost roc-auc: 0.9139539808897361\n"
     ]
    },
    {
     "name": "stderr",
     "output_type": "stream",
     "text": [
      "C:\\Users\\Sole\\Documents\\Repositories\\envs\\fsml\\lib\\site-packages\\sklearn\\base.py:486: UserWarning: X has feature names, but LogisticRegression was fitted without feature names\n",
      "  warnings.warn(\n",
      "C:\\Users\\Sole\\Documents\\Repositories\\envs\\fsml\\lib\\site-packages\\sklearn\\base.py:486: UserWarning: X has feature names, but LogisticRegression was fitted without feature names\n",
      "  warnings.warn(\n"
     ]
    }
   ],
   "source": [
    "metacost2.fit(X_train, y_train)\n",
    "\n",
    "print('Train set')\n",
    "pred = metacost2.predict_proba(X_train)\n",
    "print(\n",
    "    'MetaCost roc-auc: {}'.format(roc_auc_score(y_train, pred[:, 1])))\n",
    "\n",
    "print('Test set')\n",
    "pred = metacost2.predict_proba(X_test)\n",
    "print(\n",
    "    'MetaCost roc-auc: {}'.format(roc_auc_score(y_test, pred[:, 1])))"
   ]
  },
  {
   "cell_type": "code",
   "execution_count": 15,
   "metadata": {},
   "outputs": [
    {
     "data": {
      "text/plain": [
       "0       0\n",
       "1       0\n",
       "2       0\n",
       "3       0\n",
       "4       0\n",
       "       ..\n",
       "6995    0\n",
       "6996    0\n",
       "6997    0\n",
       "6998    0\n",
       "6999    0\n",
       "Name: target, Length: 7000, dtype: int64"
      ]
     },
     "execution_count": 15,
     "metadata": {},
     "output_type": "execute_result"
    }
   ],
   "source": [
    "y_train.reset_index(drop=True)"
   ]
  },
  {
   "cell_type": "code",
   "execution_count": 16,
   "metadata": {},
   "outputs": [
    {
     "data": {
      "text/html": [
       "<div>\n",
       "<style scoped>\n",
       "    .dataframe tbody tr th:only-of-type {\n",
       "        vertical-align: middle;\n",
       "    }\n",
       "\n",
       "    .dataframe tbody tr th {\n",
       "        vertical-align: top;\n",
       "    }\n",
       "\n",
       "    .dataframe thead th {\n",
       "        text-align: right;\n",
       "    }\n",
       "</style>\n",
       "<table border=\"1\" class=\"dataframe\">\n",
       "  <thead>\n",
       "    <tr style=\"text-align: right;\">\n",
       "      <th></th>\n",
       "      <th>0</th>\n",
       "      <th>target</th>\n",
       "    </tr>\n",
       "  </thead>\n",
       "  <tbody>\n",
       "    <tr>\n",
       "      <th>0</th>\n",
       "      <td>0</td>\n",
       "      <td>0</td>\n",
       "    </tr>\n",
       "    <tr>\n",
       "      <th>1</th>\n",
       "      <td>0</td>\n",
       "      <td>0</td>\n",
       "    </tr>\n",
       "    <tr>\n",
       "      <th>2</th>\n",
       "      <td>0</td>\n",
       "      <td>0</td>\n",
       "    </tr>\n",
       "    <tr>\n",
       "      <th>3</th>\n",
       "      <td>1</td>\n",
       "      <td>0</td>\n",
       "    </tr>\n",
       "    <tr>\n",
       "      <th>4</th>\n",
       "      <td>0</td>\n",
       "      <td>0</td>\n",
       "    </tr>\n",
       "  </tbody>\n",
       "</table>\n",
       "</div>"
      ],
      "text/plain": [
       "   0  target\n",
       "0  0       0\n",
       "1  0       0\n",
       "2  0       0\n",
       "3  1       0\n",
       "4  0       0"
      ]
     },
     "execution_count": 16,
     "metadata": {},
     "output_type": "execute_result"
    }
   ],
   "source": [
    "tmp = pd.concat([metacost2.y_, y_train.reset_index(drop=True)], axis=1)\n",
    "\n",
    "tmp.head()"
   ]
  },
  {
   "cell_type": "code",
   "execution_count": 17,
   "metadata": {},
   "outputs": [
    {
     "data": {
      "text/html": [
       "<div>\n",
       "<style scoped>\n",
       "    .dataframe tbody tr th:only-of-type {\n",
       "        vertical-align: middle;\n",
       "    }\n",
       "\n",
       "    .dataframe tbody tr th {\n",
       "        vertical-align: top;\n",
       "    }\n",
       "\n",
       "    .dataframe thead th {\n",
       "        text-align: right;\n",
       "    }\n",
       "</style>\n",
       "<table border=\"1\" class=\"dataframe\">\n",
       "  <thead>\n",
       "    <tr style=\"text-align: right;\">\n",
       "      <th></th>\n",
       "      <th>target</th>\n",
       "      <th>0</th>\n",
       "    </tr>\n",
       "  </thead>\n",
       "  <tbody>\n",
       "    <tr>\n",
       "      <th>3</th>\n",
       "      <td>0</td>\n",
       "      <td>1</td>\n",
       "    </tr>\n",
       "    <tr>\n",
       "      <th>38</th>\n",
       "      <td>0</td>\n",
       "      <td>1</td>\n",
       "    </tr>\n",
       "    <tr>\n",
       "      <th>41</th>\n",
       "      <td>0</td>\n",
       "      <td>1</td>\n",
       "    </tr>\n",
       "    <tr>\n",
       "      <th>60</th>\n",
       "      <td>0</td>\n",
       "      <td>1</td>\n",
       "    </tr>\n",
       "    <tr>\n",
       "      <th>61</th>\n",
       "      <td>0</td>\n",
       "      <td>1</td>\n",
       "    </tr>\n",
       "    <tr>\n",
       "      <th>...</th>\n",
       "      <td>...</td>\n",
       "      <td>...</td>\n",
       "    </tr>\n",
       "    <tr>\n",
       "      <th>6939</th>\n",
       "      <td>0</td>\n",
       "      <td>1</td>\n",
       "    </tr>\n",
       "    <tr>\n",
       "      <th>6951</th>\n",
       "      <td>0</td>\n",
       "      <td>1</td>\n",
       "    </tr>\n",
       "    <tr>\n",
       "      <th>6969</th>\n",
       "      <td>0</td>\n",
       "      <td>1</td>\n",
       "    </tr>\n",
       "    <tr>\n",
       "      <th>6995</th>\n",
       "      <td>0</td>\n",
       "      <td>1</td>\n",
       "    </tr>\n",
       "    <tr>\n",
       "      <th>6997</th>\n",
       "      <td>0</td>\n",
       "      <td>1</td>\n",
       "    </tr>\n",
       "  </tbody>\n",
       "</table>\n",
       "<p>987 rows × 2 columns</p>\n",
       "</div>"
      ],
      "text/plain": [
       "      target  0\n",
       "3          0  1\n",
       "38         0  1\n",
       "41         0  1\n",
       "60         0  1\n",
       "61         0  1\n",
       "...      ... ..\n",
       "6939       0  1\n",
       "6951       0  1\n",
       "6969       0  1\n",
       "6995       0  1\n",
       "6997       0  1\n",
       "\n",
       "[987 rows x 2 columns]"
      ]
     },
     "execution_count": 17,
     "metadata": {},
     "output_type": "execute_result"
    }
   ],
   "source": [
    "tmp[tmp[0]!=tmp['target']][['target', 0]]"
   ]
  },
  {
   "cell_type": "markdown",
   "metadata": {},
   "source": [
    "In theory, we should only be re-labeling observations from class 0 to class 1, but in practice that does not happen."
   ]
  },
  {
   "cell_type": "code",
   "execution_count": 18,
   "metadata": {},
   "outputs": [
    {
     "data": {
      "text/plain": [
       "987"
      ]
     },
     "execution_count": 18,
     "metadata": {},
     "output_type": "execute_result"
    }
   ],
   "source": [
    "np.sum( np.where(metacost2.y_ != y_train.reset_index(drop=True),1,0) )"
   ]
  },
  {
   "cell_type": "code",
   "execution_count": 19,
   "metadata": {},
   "outputs": [
    {
     "data": {
      "text/plain": [
       "6013"
      ]
     },
     "execution_count": 19,
     "metadata": {},
     "output_type": "execute_result"
    }
   ],
   "source": [
    "np.sum( np.where(metacost2.y_ == y_train.reset_index(drop=True),1,0) )"
   ]
  },
  {
   "cell_type": "markdown",
   "metadata": {},
   "source": [
    "## Conclusion\n",
    "\n",
    "We can wrap a model to make it cost-sensitive utilizing metacost.\n",
    "\n",
    "### Important\n",
    "\n",
    "The code I provided, does not allow reproducible results, because at the moment the class MetaCost does not incorporate a seed when re-sampling the data.\n",
    "\n",
    "**HOMEWORK**\n",
    "\n",
    "Go ahead and compare how many observations are relabeled if we apply no extra cost to the minority class, or different costs to 100.\n",
    "\n",
    "Also insteresting, compare the performance of bagging with cost_sensitive learning (adding the parameter class_weight) with MetaCost."
   ]
  },
  {
   "cell_type": "code",
   "execution_count": null,
   "metadata": {},
   "outputs": [],
   "source": []
  }
 ],
 "metadata": {
  "kernelspec": {
   "display_name": "fsml",
   "language": "python",
   "name": "fsml"
  },
  "language_info": {
   "codemirror_mode": {
    "name": "ipython",
    "version": 3
   },
   "file_extension": ".py",
   "mimetype": "text/x-python",
   "name": "python",
   "nbconvert_exporter": "python",
   "pygments_lexer": "ipython3",
   "version": "3.10.5"
  },
  "toc": {
   "base_numbering": 1,
   "nav_menu": {},
   "number_sections": true,
   "sideBar": true,
   "skip_h1_title": false,
   "title_cell": "Table of Contents",
   "title_sidebar": "Contents",
   "toc_cell": false,
   "toc_position": {},
   "toc_section_display": true,
   "toc_window_display": true
  }
 },
 "nbformat": 4,
 "nbformat_minor": 4
}
