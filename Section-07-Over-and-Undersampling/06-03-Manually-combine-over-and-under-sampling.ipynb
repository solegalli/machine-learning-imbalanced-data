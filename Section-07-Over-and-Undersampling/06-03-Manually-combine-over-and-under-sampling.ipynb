{
 "cells": [
  {
   "cell_type": "markdown",
   "metadata": {},
   "source": [
    "# Manually combine over and under-sampling\n",
    "\n",
    "In this notebook, I demo how to manually combine an over- and under-sampling technique, in case you want to do so."
   ]
  },
  {
   "cell_type": "code",
   "execution_count": 1,
   "metadata": {},
   "outputs": [],
   "source": [
    "import pandas as pd\n",
    "\n",
    "from sklearn.ensemble import RandomForestClassifier\n",
    "from sklearn.metrics import roc_auc_score\n",
    "from sklearn.model_selection import train_test_split\n",
    "from sklearn.preprocessing import MinMaxScaler\n",
    "\n",
    "# to correctly set up the cross-validation\n",
    "from imblearn.pipeline import make_pipeline\n",
    "from imblearn.under_sampling import NeighbourhoodCleaningRule\n",
    "from imblearn.over_sampling import ADASYN"
   ]
  },
  {
   "cell_type": "code",
   "execution_count": 2,
   "metadata": {},
   "outputs": [
    {
     "data": {
      "text/html": [
       "<div>\n",
       "<style scoped>\n",
       "    .dataframe tbody tr th:only-of-type {\n",
       "        vertical-align: middle;\n",
       "    }\n",
       "\n",
       "    .dataframe tbody tr th {\n",
       "        vertical-align: top;\n",
       "    }\n",
       "\n",
       "    .dataframe thead th {\n",
       "        text-align: right;\n",
       "    }\n",
       "</style>\n",
       "<table border=\"1\" class=\"dataframe\">\n",
       "  <thead>\n",
       "    <tr style=\"text-align: right;\">\n",
       "      <th></th>\n",
       "      <th>0</th>\n",
       "      <th>1</th>\n",
       "      <th>2</th>\n",
       "      <th>3</th>\n",
       "      <th>4</th>\n",
       "      <th>5</th>\n",
       "      <th>6</th>\n",
       "      <th>7</th>\n",
       "      <th>8</th>\n",
       "      <th>9</th>\n",
       "      <th>...</th>\n",
       "      <th>65</th>\n",
       "      <th>66</th>\n",
       "      <th>67</th>\n",
       "      <th>68</th>\n",
       "      <th>69</th>\n",
       "      <th>70</th>\n",
       "      <th>71</th>\n",
       "      <th>72</th>\n",
       "      <th>73</th>\n",
       "      <th>target</th>\n",
       "    </tr>\n",
       "  </thead>\n",
       "  <tbody>\n",
       "    <tr>\n",
       "      <th>46233</th>\n",
       "      <td>51.02</td>\n",
       "      <td>22.08</td>\n",
       "      <td>0.92</td>\n",
       "      <td>31.5</td>\n",
       "      <td>10.5</td>\n",
       "      <td>1910.7</td>\n",
       "      <td>-1.47</td>\n",
       "      <td>-0.74</td>\n",
       "      <td>-8.0</td>\n",
       "      <td>-52.0</td>\n",
       "      <td>...</td>\n",
       "      <td>879.5</td>\n",
       "      <td>1.58</td>\n",
       "      <td>-0.45</td>\n",
       "      <td>-5.0</td>\n",
       "      <td>-30.0</td>\n",
       "      <td>291.7</td>\n",
       "      <td>-0.12</td>\n",
       "      <td>0.47</td>\n",
       "      <td>0.96</td>\n",
       "      <td>-1</td>\n",
       "    </tr>\n",
       "    <tr>\n",
       "      <th>58625</th>\n",
       "      <td>64.17</td>\n",
       "      <td>24.60</td>\n",
       "      <td>-0.21</td>\n",
       "      <td>-35.5</td>\n",
       "      <td>26.0</td>\n",
       "      <td>4585.3</td>\n",
       "      <td>-1.10</td>\n",
       "      <td>1.17</td>\n",
       "      <td>-27.5</td>\n",
       "      <td>-121.5</td>\n",
       "      <td>...</td>\n",
       "      <td>4815.7</td>\n",
       "      <td>-1.09</td>\n",
       "      <td>5.09</td>\n",
       "      <td>25.0</td>\n",
       "      <td>-220.0</td>\n",
       "      <td>475.4</td>\n",
       "      <td>2.32</td>\n",
       "      <td>0.42</td>\n",
       "      <td>0.46</td>\n",
       "      <td>-1</td>\n",
       "    </tr>\n",
       "    <tr>\n",
       "      <th>5231</th>\n",
       "      <td>86.09</td>\n",
       "      <td>29.63</td>\n",
       "      <td>3.24</td>\n",
       "      <td>78.5</td>\n",
       "      <td>-89.0</td>\n",
       "      <td>453.2</td>\n",
       "      <td>1.87</td>\n",
       "      <td>4.58</td>\n",
       "      <td>63.0</td>\n",
       "      <td>-119.5</td>\n",
       "      <td>...</td>\n",
       "      <td>144.9</td>\n",
       "      <td>1.25</td>\n",
       "      <td>2.50</td>\n",
       "      <td>3.0</td>\n",
       "      <td>-24.0</td>\n",
       "      <td>64.8</td>\n",
       "      <td>-0.85</td>\n",
       "      <td>0.59</td>\n",
       "      <td>0.94</td>\n",
       "      <td>1</td>\n",
       "    </tr>\n",
       "    <tr>\n",
       "      <th>58042</th>\n",
       "      <td>78.57</td>\n",
       "      <td>21.37</td>\n",
       "      <td>0.36</td>\n",
       "      <td>-7.0</td>\n",
       "      <td>38.5</td>\n",
       "      <td>1779.1</td>\n",
       "      <td>-0.25</td>\n",
       "      <td>-0.03</td>\n",
       "      <td>-3.5</td>\n",
       "      <td>-62.5</td>\n",
       "      <td>...</td>\n",
       "      <td>1471.3</td>\n",
       "      <td>-0.12</td>\n",
       "      <td>1.48</td>\n",
       "      <td>-5.0</td>\n",
       "      <td>-62.0</td>\n",
       "      <td>406.9</td>\n",
       "      <td>0.18</td>\n",
       "      <td>0.41</td>\n",
       "      <td>0.68</td>\n",
       "      <td>-1</td>\n",
       "    </tr>\n",
       "    <tr>\n",
       "      <th>128067</th>\n",
       "      <td>79.13</td>\n",
       "      <td>24.18</td>\n",
       "      <td>0.78</td>\n",
       "      <td>-3.0</td>\n",
       "      <td>-16.0</td>\n",
       "      <td>844.1</td>\n",
       "      <td>0.48</td>\n",
       "      <td>-0.56</td>\n",
       "      <td>-6.5</td>\n",
       "      <td>-52.0</td>\n",
       "      <td>...</td>\n",
       "      <td>633.8</td>\n",
       "      <td>0.43</td>\n",
       "      <td>1.30</td>\n",
       "      <td>5.0</td>\n",
       "      <td>-29.0</td>\n",
       "      <td>165.0</td>\n",
       "      <td>-0.10</td>\n",
       "      <td>0.09</td>\n",
       "      <td>-0.41</td>\n",
       "      <td>-1</td>\n",
       "    </tr>\n",
       "  </tbody>\n",
       "</table>\n",
       "<p>5 rows × 75 columns</p>\n",
       "</div>"
      ],
      "text/plain": [
       "            0      1     2     3     4       5     6     7     8      9  ...  \\\n",
       "46233   51.02  22.08  0.92  31.5  10.5  1910.7 -1.47 -0.74  -8.0  -52.0  ...   \n",
       "58625   64.17  24.60 -0.21 -35.5  26.0  4585.3 -1.10  1.17 -27.5 -121.5  ...   \n",
       "5231    86.09  29.63  3.24  78.5 -89.0   453.2  1.87  4.58  63.0 -119.5  ...   \n",
       "58042   78.57  21.37  0.36  -7.0  38.5  1779.1 -0.25 -0.03  -3.5  -62.5  ...   \n",
       "128067  79.13  24.18  0.78  -3.0 -16.0   844.1  0.48 -0.56  -6.5  -52.0  ...   \n",
       "\n",
       "            65    66    67    68     69     70    71    72    73  target  \n",
       "46233    879.5  1.58 -0.45  -5.0  -30.0  291.7 -0.12  0.47  0.96      -1  \n",
       "58625   4815.7 -1.09  5.09  25.0 -220.0  475.4  2.32  0.42  0.46      -1  \n",
       "5231     144.9  1.25  2.50   3.0  -24.0   64.8 -0.85  0.59  0.94       1  \n",
       "58042   1471.3 -0.12  1.48  -5.0  -62.0  406.9  0.18  0.41  0.68      -1  \n",
       "128067   633.8  0.43  1.30   5.0  -29.0  165.0 -0.10  0.09 -0.41      -1  \n",
       "\n",
       "[5 rows x 75 columns]"
      ]
     },
     "execution_count": 2,
     "metadata": {},
     "output_type": "execute_result"
    }
   ],
   "source": [
    "# load data (just some cells to speed up the computations)\n",
    "# we will be using KNN in our cleaning procedure so with the whole \n",
    "# dataset in my laptop it takes quite a while...\n",
    "\n",
    "# you see already some of the limitations of these techniques ;)\n",
    "\n",
    "\n",
    "data = pd.read_csv('../kdd2004.csv').sample(50000, random_state=0)\n",
    "\n",
    "data.head()"
   ]
  },
  {
   "cell_type": "code",
   "execution_count": 3,
   "metadata": {},
   "outputs": [
    {
     "data": {
      "text/plain": [
       "((35000, 74), (15000, 74))"
      ]
     },
     "execution_count": 3,
     "metadata": {},
     "output_type": "execute_result"
    }
   ],
   "source": [
    "# separate dataset into train and test\n",
    "\n",
    "X_train, X_test, y_train, y_test = train_test_split(\n",
    "    data.drop(labels=['target'], axis=1),  # drop the target\n",
    "    data['target'],  # just the target\n",
    "    test_size=0.3,\n",
    "    random_state=0)\n",
    "\n",
    "X_train.shape, X_test.shape"
   ]
  },
  {
   "cell_type": "markdown",
   "metadata": {},
   "source": [
    "## ADASYN + NCR "
   ]
  },
  {
   "cell_type": "code",
   "execution_count": 4,
   "metadata": {},
   "outputs": [],
   "source": [
    "# adasyn\n",
    "\n",
    "adasyn = ADASYN(\n",
    "        sampling_strategy='auto',  # samples only the minority class\n",
    "        random_state=0,  # for reproducibility\n",
    "        n_neighbors=5,\n",
    "        n_jobs=4,\n",
    ")"
   ]
  },
  {
   "cell_type": "code",
   "execution_count": 5,
   "metadata": {},
   "outputs": [],
   "source": [
    "###################\n",
    "## IMPORTANT  \n",
    "##################=\n",
    "\n",
    "# The sampling strategy needs to be set to all, or with\n",
    "# a specific dictionary, because after ADASYN, our\n",
    "# previous minority class is no longer minority!!\n",
    "\n",
    "ncr = NeighbourhoodCleaningRule(\n",
    "    sampling_strategy='all',# undersamples all classes\n",
    "    n_neighbors=3, \n",
    "    kind_sel='mode', \n",
    "    threshold_cleaning=0.1, # the threshold to evaluate a class for cleaning (used only for clearning step)\n",
    ") "
   ]
  },
  {
   "cell_type": "code",
   "execution_count": 6,
   "metadata": {},
   "outputs": [],
   "source": [
    "model = make_pipeline(\n",
    "    MinMaxScaler(),\n",
    "    adasyn,\n",
    "    ncr, \n",
    "    RandomForestClassifier(\n",
    "            n_estimators=100, random_state=39, max_depth=3, n_jobs=4\n",
    "        ),\n",
    ")"
   ]
  },
  {
   "cell_type": "code",
   "execution_count": 7,
   "metadata": {},
   "outputs": [
    {
     "data": {
      "text/plain": [
       "Pipeline(steps=[('minmaxscaler', MinMaxScaler()),\n",
       "                ('adasyn', ADASYN(n_jobs=4, random_state=0)),\n",
       "                ('neighbourhoodcleaningrule',\n",
       "                 NeighbourhoodCleaningRule(kind_sel='mode',\n",
       "                                           sampling_strategy='all',\n",
       "                                           threshold_cleaning=0.1)),\n",
       "                ('randomforestclassifier',\n",
       "                 RandomForestClassifier(max_depth=3, n_jobs=4,\n",
       "                                        random_state=39))])"
      ]
     },
     "execution_count": 7,
     "metadata": {},
     "output_type": "execute_result"
    }
   ],
   "source": [
    "model.fit(X_train, y_train)"
   ]
  },
  {
   "cell_type": "code",
   "execution_count": 8,
   "metadata": {},
   "outputs": [],
   "source": [
    "pred_train = model.predict_proba(X_train)[:,1]\n",
    "pred_test = model.predict_proba(X_test)[:,1]"
   ]
  },
  {
   "cell_type": "code",
   "execution_count": 9,
   "metadata": {},
   "outputs": [
    {
     "name": "stdout",
     "output_type": "stream",
     "text": [
      "Train roc-auc: 0.9917936513257711\n"
     ]
    }
   ],
   "source": [
    "print('Train roc-auc: {}'.format(roc_auc_score(y_train, pred_train)))"
   ]
  },
  {
   "cell_type": "code",
   "execution_count": 10,
   "metadata": {},
   "outputs": [
    {
     "name": "stdout",
     "output_type": "stream",
     "text": [
      "Test roc-auc: 0.9891783766984125\n"
     ]
    }
   ],
   "source": [
    "print('Test roc-auc: {}'.format(roc_auc_score(y_test, pred_test)))"
   ]
  }
 ],
 "metadata": {
  "kernelspec": {
   "display_name": "imbalanced",
   "language": "python",
   "name": "imbalanced"
  },
  "language_info": {
   "codemirror_mode": {
    "name": "ipython",
    "version": 3
   },
   "file_extension": ".py",
   "mimetype": "text/x-python",
   "name": "python",
   "nbconvert_exporter": "python",
   "pygments_lexer": "ipython3",
   "version": "3.8.2"
  },
  "toc": {
   "base_numbering": 1,
   "nav_menu": {},
   "number_sections": true,
   "sideBar": true,
   "skip_h1_title": false,
   "title_cell": "Table of Contents",
   "title_sidebar": "Contents",
   "toc_cell": false,
   "toc_position": {},
   "toc_section_display": true,
   "toc_window_display": false
  }
 },
 "nbformat": 4,
 "nbformat_minor": 4
}
