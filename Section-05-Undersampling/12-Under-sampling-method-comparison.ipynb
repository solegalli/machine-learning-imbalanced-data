{
 "cells": [
  {
   "cell_type": "markdown",
   "metadata": {},
   "source": [
    "## Under-sampling Method Comparison\n",
    "\n",
    "[Machine Learning with Imbalanced Data - Course](https://www.trainindata.com/p/machine-learning-with-imbalanced-data)\n",
    "\n",
    "We will compare how the different under-sampling algorithms discussed in this section improve (or not) the performance of Random Forests on different datasets with imbalanced classes.\n",
    "\n",
    "### Important\n",
    "\n",
    "- We train the models on a portion of the data that is under-sampled\n",
    "- We evaluate the model performance on another portion of the data that **was not resampled**, and thus contains the original class distribution."
   ]
  },
  {
   "cell_type": "code",
   "execution_count": 1,
   "metadata": {},
   "outputs": [],
   "source": [
    "from collections import Counter\n",
    "\n",
    "import pandas as pd\n",
    "import matplotlib.pyplot as plt\n",
    "\n",
    "from sklearn.ensemble import RandomForestClassifier\n",
    "from sklearn.linear_model import LogisticRegression\n",
    "from sklearn.metrics import roc_auc_score\n",
    "from sklearn.model_selection import train_test_split\n",
    "from sklearn.preprocessing import MinMaxScaler\n",
    "\n",
    "from imblearn.datasets import fetch_datasets\n",
    "\n",
    "from imblearn.under_sampling import (\n",
    "    RandomUnderSampler,\n",
    "    CondensedNearestNeighbour,\n",
    "    TomekLinks,\n",
    "    OneSidedSelection,\n",
    "    EditedNearestNeighbours,\n",
    "    RepeatedEditedNearestNeighbours,\n",
    "    AllKNN,\n",
    "    NeighbourhoodCleaningRule,\n",
    "    NearMiss,\n",
    "    InstanceHardnessThreshold\n",
    ")"
   ]
  },
  {
   "cell_type": "code",
   "execution_count": 2,
   "metadata": {},
   "outputs": [],
   "source": [
    "undersampler_dict = {\n",
    "\n",
    "    'random': RandomUnderSampler(\n",
    "        sampling_strategy='auto',\n",
    "        random_state=0,\n",
    "        replacement=False),\n",
    "\n",
    "    'cnn': CondensedNearestNeighbour(\n",
    "        sampling_strategy='auto',\n",
    "        random_state=0,\n",
    "        n_neighbors=1,\n",
    "        n_jobs=4),\n",
    "\n",
    "    'tomek': TomekLinks(\n",
    "        sampling_strategy='auto',\n",
    "        n_jobs=4),\n",
    "\n",
    "    'oss': OneSidedSelection(\n",
    "        sampling_strategy='auto',\n",
    "        random_state=0,\n",
    "        n_neighbors=1,\n",
    "        n_jobs=4),\n",
    "\n",
    "    'enn': EditedNearestNeighbours(\n",
    "        sampling_strategy='auto',\n",
    "        n_neighbors=3,\n",
    "        kind_sel='all',\n",
    "        n_jobs=4),\n",
    "\n",
    "    'renn': RepeatedEditedNearestNeighbours(\n",
    "        sampling_strategy='auto',\n",
    "        n_neighbors=3,\n",
    "        kind_sel='all',\n",
    "        n_jobs=4,\n",
    "        max_iter=100),\n",
    "\n",
    "    'allknn': AllKNN(\n",
    "        sampling_strategy='auto',\n",
    "        n_neighbors=3,\n",
    "        kind_sel='all',\n",
    "        n_jobs=4),\n",
    "\n",
    "    'ncr': NeighbourhoodCleaningRule(\n",
    "        sampling_strategy='auto',\n",
    "        n_neighbors=3,\n",
    "        kind_sel='all',\n",
    "        n_jobs=4,\n",
    "        threshold_cleaning=0.5),\n",
    "\n",
    "    'nm1': NearMiss(\n",
    "        sampling_strategy='auto',\n",
    "        version=1,\n",
    "        n_neighbors=3,\n",
    "        n_jobs=4),\n",
    "\n",
    "    'nm2': NearMiss(\n",
    "        sampling_strategy='auto',\n",
    "        version=2,\n",
    "        n_neighbors=3,\n",
    "        n_jobs=4),\n",
    "\n",
    "    # here I set up a Logistic regression but remember\n",
    "    # that the authors of this technique concluded that it is best\n",
    "    # to use the same classifier that will be used to train the final\n",
    "    # model, so in our case, we should have used a Random Forest\n",
    "    'iht': InstanceHardnessThreshold(\n",
    "        estimator=LogisticRegression(random_state=0),\n",
    "        sampling_strategy='auto',\n",
    "        random_state=0,\n",
    "        n_jobs=4,\n",
    "        cv=3)\n",
    "}"
   ]
  },
  {
   "cell_type": "code",
   "execution_count": 3,
   "metadata": {},
   "outputs": [],
   "source": [
    "datasets_ls = [\n",
    "    'car_eval_34',\n",
    "    'ecoli',\n",
    "    'thyroid_sick',\n",
    "    'arrhythmia',\n",
    "    'ozone_level'\n",
    "]"
   ]
  },
  {
   "cell_type": "code",
   "execution_count": 4,
   "metadata": {},
   "outputs": [
    {
     "name": "stdout",
     "output_type": "stream",
     "text": [
      "car_eval_34\n",
      "Counter({-1: 1594, 1: 134})\n",
      "\n",
      "ecoli\n",
      "Counter({-1: 301, 1: 35})\n",
      "\n",
      "thyroid_sick\n",
      "Counter({-1: 3541, 1: 231})\n",
      "\n",
      "arrhythmia\n",
      "Counter({-1: 427, 1: 25})\n",
      "\n",
      "ozone_level\n",
      "Counter({-1: 2463, 1: 73})\n",
      "\n"
     ]
    }
   ],
   "source": [
    "# print class imbalance for each dataset\n",
    "\n",
    "# this is to get a tiny bit familiar with the\n",
    "# datasets\n",
    "\n",
    "for dataset in datasets_ls:\n",
    "    data = fetch_datasets()[dataset]\n",
    "    print(dataset)\n",
    "    print(Counter(data.target))\n",
    "    print()"
   ]
  },
  {
   "cell_type": "code",
   "execution_count": 5,
   "metadata": {},
   "outputs": [],
   "source": [
    "# function to train random forests and evaluate the performance\n",
    "\n",
    "def run_randomForests(X_train, X_test, y_train, y_test):\n",
    "\n",
    "    rf = RandomForestClassifier(\n",
    "        n_estimators=100, random_state=39, max_depth=3, n_jobs=4,\n",
    "    )\n",
    "    \n",
    "    rf.fit(X_train, y_train)\n",
    "\n",
    "    print('Train set')\n",
    "    pred = rf.predict_proba(X_train)\n",
    "    print(\n",
    "        'Random Forests roc-auc: {}'.format(roc_auc_score(y_train, pred[:, 1])))\n",
    "\n",
    "    print('Test set')\n",
    "    pred = rf.predict_proba(X_test)\n",
    "    print(\n",
    "        'Random Forests roc-auc: {}'.format(roc_auc_score(y_test, pred[:, 1])))\n",
    "    \n",
    "    # NOTE: that this function returns the ROC over the test set\n",
    "    # which is the portion of the data that would not be under-sampled\n",
    "    return roc_auc_score(y_test, pred[:, 1])"
   ]
  },
  {
   "cell_type": "code",
   "execution_count": 6,
   "metadata": {
    "scrolled": true
   },
   "outputs": [
    {
     "name": "stdout",
     "output_type": "stream",
     "text": [
      "car_eval_34\n",
      "Train set\n",
      "Random Forests roc-auc: 0.9765820711450264\n",
      "Test set\n",
      "Random Forests roc-auc: 0.9682620675579141\n",
      "\n",
      "random\n",
      "Train set\n",
      "Random Forests roc-auc: 0.9963001503063939\n",
      "Test set\n",
      "Random Forests roc-auc: 0.9897438514134096\n",
      "\n",
      "cnn\n",
      "Train set\n",
      "Random Forests roc-auc: 0.9682002467830072\n",
      "Test set\n",
      "Random Forests roc-auc: 0.986376160832738\n",
      "\n",
      "tomek\n",
      "Train set\n",
      "Random Forests roc-auc: 0.980435542098521\n",
      "Test set\n",
      "Random Forests roc-auc: 0.973288090621492\n",
      "\n",
      "oss\n",
      "Train set\n",
      "Random Forests roc-auc: 0.9788177918796639\n",
      "Test set\n",
      "Random Forests roc-auc: 0.9683130931727727\n",
      "\n",
      "enn\n",
      "Train set\n",
      "Random Forests roc-auc: 0.989092755735135\n",
      "Test set\n",
      "Random Forests roc-auc: 0.9712470660271456\n",
      "\n",
      "renn\n",
      "Train set\n",
      "Random Forests roc-auc: 0.9882285195397718\n",
      "Test set\n",
      "Random Forests roc-auc: 0.9674966833350341\n",
      "\n",
      "allknn\n",
      "Train set\n",
      "Random Forests roc-auc: 0.9830529402685599\n",
      "Test set\n",
      "Random Forests roc-auc: 0.9681600163281968\n",
      "\n",
      "ncr\n"
     ]
    },
    {
     "name": "stderr",
     "output_type": "stream",
     "text": [
      "C:\\Users\\Sole\\Documents\\Repositories\\envs\\fsml\\lib\\site-packages\\imblearn\\under_sampling\\_prototype_selection\\_neighbourhood_cleaning_rule.py:201: FutureWarning: `kind_sel` is deprecated in 0.12 and will be removed in 0.14. It already has not effect and corresponds to the `'all'` option.\n",
      "  warnings.warn(\n"
     ]
    },
    {
     "name": "stdout",
     "output_type": "stream",
     "text": [
      "Train set\n",
      "Random Forests roc-auc: 0.9853022992342628\n",
      "Test set\n",
      "Random Forests roc-auc: 0.9765792427798755\n",
      "\n",
      "nm1\n",
      "Train set\n",
      "Random Forests roc-auc: 0.9687825182101977\n",
      "Test set\n",
      "Random Forests roc-auc: 0.9951525665884273\n",
      "\n",
      "nm2\n",
      "Train set\n",
      "Random Forests roc-auc: 0.9695918603306741\n",
      "Test set\n",
      "Random Forests roc-auc: 0.9342279824471884\n",
      "\n",
      "iht\n",
      "Train set\n",
      "Random Forests roc-auc: 0.9832350560758469\n",
      "Test set\n",
      "Random Forests roc-auc: 0.9955607715072966\n",
      "\n",
      "\n",
      "ecoli\n",
      "Train set\n",
      "Random Forests roc-auc: 0.9920868605079132\n",
      "Test set\n",
      "Random Forests roc-auc: 0.9504830917874396\n",
      "\n",
      "random\n",
      "Train set\n",
      "Random Forests roc-auc: 0.9940828402366864\n",
      "Test set\n",
      "Random Forests roc-auc: 0.9528985507246377\n",
      "\n",
      "cnn\n",
      "Train set\n",
      "Random Forests roc-auc: 0.9743589743589743\n",
      "Test set\n",
      "Random Forests roc-auc: 0.9577294685990339\n",
      "\n",
      "tomek\n",
      "Train set\n",
      "Random Forests roc-auc: 0.9924213717317166\n",
      "Test set\n",
      "Random Forests roc-auc: 0.9589371980676329\n",
      "\n",
      "oss\n",
      "Train set\n",
      "Random Forests roc-auc: 0.9932336182336182\n",
      "Test set\n",
      "Random Forests roc-auc: 0.9094202898550725\n",
      "\n",
      "enn\n",
      "Train set\n",
      "Random Forests roc-auc: 0.9997839239412273\n",
      "Test set\n",
      "Random Forests roc-auc: 0.9541062801932367\n",
      "\n",
      "renn\n",
      "Train set\n",
      "Random Forests roc-auc: 1.0\n",
      "Test set\n",
      "Random Forests roc-auc: 0.9577294685990337\n",
      "\n",
      "allknn\n",
      "Train set\n",
      "Random Forests roc-auc: 0.9997763864042933\n",
      "Test set\n",
      "Random Forests roc-auc: 0.9625603864734299\n",
      "\n",
      "ncr\n"
     ]
    },
    {
     "name": "stderr",
     "output_type": "stream",
     "text": [
      "C:\\Users\\Sole\\Documents\\Repositories\\envs\\fsml\\lib\\site-packages\\imblearn\\under_sampling\\_prototype_selection\\_neighbourhood_cleaning_rule.py:201: FutureWarning: `kind_sel` is deprecated in 0.12 and will be removed in 0.14. It already has not effect and corresponds to the `'all'` option.\n",
      "  warnings.warn(\n"
     ]
    },
    {
     "name": "stdout",
     "output_type": "stream",
     "text": [
      "Train set\n",
      "Random Forests roc-auc: 0.9979321753515301\n",
      "Test set\n",
      "Random Forests roc-auc: 0.9565217391304348\n",
      "\n",
      "nm1\n",
      "Train set\n",
      "Random Forests roc-auc: 0.9837278106508875\n",
      "Test set\n",
      "Random Forests roc-auc: 0.45048309178743956\n",
      "\n",
      "nm2\n",
      "Train set\n",
      "Random Forests roc-auc: 0.9792899408284024\n",
      "Test set\n",
      "Random Forests roc-auc: 0.6690821256038646\n",
      "\n",
      "iht\n",
      "Train set\n",
      "Random Forests roc-auc: 0.9837278106508875\n",
      "Test set\n",
      "Random Forests roc-auc: 0.4070048309178744\n",
      "\n",
      "\n",
      "thyroid_sick\n",
      "Train set\n",
      "Random Forests roc-auc: 0.9740873567301565\n",
      "Test set\n",
      "Random Forests roc-auc: 0.9616175293900413\n",
      "\n",
      "random\n",
      "Train set\n",
      "Random Forests roc-auc: 0.9869708213864058\n",
      "Test set\n",
      "Random Forests roc-auc: 0.9606327321967133\n",
      "\n",
      "cnn\n",
      "Train set\n",
      "Random Forests roc-auc: 0.9495073891625616\n",
      "Test set\n",
      "Random Forests roc-auc: 0.9674770726903428\n",
      "\n",
      "tomek\n",
      "Train set\n",
      "Random Forests roc-auc: 0.9748379929642659\n",
      "Test set\n",
      "Random Forests roc-auc: 0.9617652489690404\n",
      "\n",
      "oss\n",
      "Train set\n",
      "Random Forests roc-auc: 0.9757888805409467\n",
      "Test set\n",
      "Random Forests roc-auc: 0.9623684372499539\n",
      "\n",
      "enn\n",
      "Train set\n",
      "Random Forests roc-auc: 0.9775154362937362\n",
      "Test set\n",
      "Random Forests roc-auc: 0.959684864898135\n",
      "\n",
      "renn\n",
      "Train set\n",
      "Random Forests roc-auc: 0.9819121667805879\n",
      "Test set\n",
      "Random Forests roc-auc: 0.9601280236351326\n",
      "\n",
      "allknn\n",
      "Train set\n",
      "Random Forests roc-auc: 0.9796782506921156\n",
      "Test set\n",
      "Random Forests roc-auc: 0.958084569458977\n",
      "\n",
      "ncr\n"
     ]
    },
    {
     "name": "stderr",
     "output_type": "stream",
     "text": [
      "C:\\Users\\Sole\\Documents\\Repositories\\envs\\fsml\\lib\\site-packages\\imblearn\\under_sampling\\_prototype_selection\\_neighbourhood_cleaning_rule.py:201: FutureWarning: `kind_sel` is deprecated in 0.12 and will be removed in 0.14. It already has not effect and corresponds to the `'all'` option.\n",
      "  warnings.warn(\n"
     ]
    },
    {
     "name": "stdout",
     "output_type": "stream",
     "text": [
      "Train set\n",
      "Random Forests roc-auc: 0.9765857496322816\n",
      "Test set\n",
      "Random Forests roc-auc: 0.9589708869329722\n",
      "\n",
      "nm1\n",
      "Train set\n",
      "Random Forests roc-auc: 0.989585090234441\n",
      "Test set\n",
      "Random Forests roc-auc: 0.780057856835108\n",
      "\n",
      "nm2\n",
      "Train set\n",
      "Random Forests roc-auc: 0.9985242030696576\n",
      "Test set\n",
      "Random Forests roc-auc: 0.7325660121868653\n",
      "\n",
      "iht\n",
      "Train set\n",
      "Random Forests roc-auc: 0.979001517962557\n",
      "Test set\n",
      "Random Forests roc-auc: 0.49863974887671575\n",
      "\n",
      "\n",
      "arrhythmia\n",
      "Train set\n",
      "Random Forests roc-auc: 1.0\n",
      "Test set\n",
      "Random Forests roc-auc: 0.8994140625\n",
      "\n",
      "random\n",
      "Train set\n",
      "Random Forests roc-auc: 1.0\n",
      "Test set\n",
      "Random Forests roc-auc: 0.9306640625\n",
      "\n",
      "cnn\n",
      "Train set\n",
      "Random Forests roc-auc: 1.0\n",
      "Test set\n",
      "Random Forests roc-auc: 0.9140625\n",
      "\n",
      "tomek\n",
      "Train set\n",
      "Random Forests roc-auc: 1.0\n",
      "Test set\n",
      "Random Forests roc-auc: 0.9599609375\n",
      "\n",
      "oss\n",
      "Train set\n",
      "Random Forests roc-auc: 1.0\n",
      "Test set\n",
      "Random Forests roc-auc: 0.8935546875\n",
      "\n",
      "enn\n",
      "Train set\n",
      "Random Forests roc-auc: 1.0\n",
      "Test set\n",
      "Random Forests roc-auc: 0.9267578125\n",
      "\n",
      "renn\n",
      "Train set\n",
      "Random Forests roc-auc: 0.9995198079231692\n",
      "Test set\n",
      "Random Forests roc-auc: 0.9072265625\n",
      "\n",
      "allknn\n",
      "Train set\n",
      "Random Forests roc-auc: 1.0\n",
      "Test set\n",
      "Random Forests roc-auc: 0.9638671875\n",
      "\n",
      "ncr\n"
     ]
    },
    {
     "name": "stderr",
     "output_type": "stream",
     "text": [
      "C:\\Users\\Sole\\Documents\\Repositories\\envs\\fsml\\lib\\site-packages\\imblearn\\under_sampling\\_prototype_selection\\_neighbourhood_cleaning_rule.py:201: FutureWarning: `kind_sel` is deprecated in 0.12 and will be removed in 0.14. It already has not effect and corresponds to the `'all'` option.\n",
      "  warnings.warn(\n"
     ]
    },
    {
     "name": "stdout",
     "output_type": "stream",
     "text": [
      "Train set\n",
      "Random Forests roc-auc: 1.0\n",
      "Test set\n",
      "Random Forests roc-auc: 0.96484375\n",
      "\n",
      "nm1\n",
      "Train set\n",
      "Random Forests roc-auc: 1.0\n",
      "Test set\n",
      "Random Forests roc-auc: 0.6015625\n",
      "\n",
      "nm2\n",
      "Train set\n",
      "Random Forests roc-auc: 1.0\n",
      "Test set\n",
      "Random Forests roc-auc: 0.79296875\n",
      "\n",
      "iht\n",
      "Train set\n",
      "Random Forests roc-auc: 1.0\n",
      "Test set\n",
      "Random Forests roc-auc: 0.9716796875\n",
      "\n",
      "\n",
      "ozone_level\n",
      "Train set\n",
      "Random Forests roc-auc: 0.9730903165319881\n",
      "Test set\n",
      "Random Forests roc-auc: 0.826061776061776\n",
      "\n",
      "random\n",
      "Train set\n",
      "Random Forests roc-auc: 0.9892751479289941\n",
      "Test set\n",
      "Random Forests roc-auc: 0.8254826254826255\n",
      "\n",
      "cnn\n",
      "Train set\n",
      "Random Forests roc-auc: 0.9530956848030019\n",
      "Test set\n",
      "Random Forests roc-auc: 0.8268339768339769\n",
      "\n",
      "tomek\n",
      "Train set\n",
      "Random Forests roc-auc: 0.9601231128684399\n",
      "Test set\n",
      "Random Forests roc-auc: 0.8096525096525096\n",
      "\n",
      "oss\n",
      "Train set\n",
      "Random Forests roc-auc: 0.957703304558201\n",
      "Test set\n",
      "Random Forests roc-auc: 0.7922779922779922\n",
      "\n",
      "enn\n",
      "Train set\n",
      "Random Forests roc-auc: 0.9664294554455445\n",
      "Test set\n",
      "Random Forests roc-auc: 0.834041184041184\n",
      "\n",
      "renn\n",
      "Train set\n",
      "Random Forests roc-auc: 0.9762014675154284\n",
      "Test set\n",
      "Random Forests roc-auc: 0.8323037323037322\n",
      "\n",
      "allknn\n",
      "Train set\n",
      "Random Forests roc-auc: 0.9764543269230769\n",
      "Test set\n",
      "Random Forests roc-auc: 0.8305662805662806\n",
      "\n",
      "ncr\n"
     ]
    },
    {
     "name": "stderr",
     "output_type": "stream",
     "text": [
      "C:\\Users\\Sole\\Documents\\Repositories\\envs\\fsml\\lib\\site-packages\\imblearn\\under_sampling\\_prototype_selection\\_neighbourhood_cleaning_rule.py:201: FutureWarning: `kind_sel` is deprecated in 0.12 and will be removed in 0.14. It already has not effect and corresponds to the `'all'` option.\n",
      "  warnings.warn(\n"
     ]
    },
    {
     "name": "stdout",
     "output_type": "stream",
     "text": [
      "Train set\n",
      "Random Forests roc-auc: 0.9736432279377065\n",
      "Test set\n",
      "Random Forests roc-auc: 0.8160231660231659\n",
      "\n",
      "nm1\n",
      "Train set\n",
      "Random Forests roc-auc: 0.9774408284023668\n",
      "Test set\n",
      "Random Forests roc-auc: 0.5876447876447877\n",
      "\n",
      "nm2\n",
      "Train set\n",
      "Random Forests roc-auc: 0.9985207100591715\n",
      "Test set\n",
      "Random Forests roc-auc: 0.8113899613899613\n",
      "\n",
      "iht\n",
      "Train set\n",
      "Random Forests roc-auc: 0.988905325443787\n",
      "Test set\n",
      "Random Forests roc-auc: 0.4562419562419563\n",
      "\n",
      "\n"
     ]
    }
   ],
   "source": [
    "# loop to train models with the different under-sampling methods\n",
    "# over the different datasets\n",
    "\n",
    "# to save the results\n",
    "results_dict = {}\n",
    "shapes_dict = {}\n",
    "\n",
    "# for each dataset\n",
    "for dataset in datasets_ls:\n",
    "    \n",
    "    # start a new dictionary per dataset\n",
    "    results_dict[dataset] = {}\n",
    "    shapes_dict[dataset] = {}\n",
    "    \n",
    "    print(dataset)\n",
    "    \n",
    "    # load dataset\n",
    "    data = fetch_datasets()[dataset]\n",
    "    \n",
    "    # separate train and test\n",
    "    X_train, X_test, y_train, y_test = train_test_split(\n",
    "        data.data,  \n",
    "        data.target, \n",
    "        test_size=0.3,\n",
    "        random_state=0,\n",
    "    )\n",
    "    \n",
    "    # as many undersampling techniques use KNN\n",
    "    # we put the variables in the same scale\n",
    "    scaler = MinMaxScaler().fit(X_train)\n",
    "    X_train = scaler.transform(X_train)\n",
    "    X_test = scaler.transform(X_test)\n",
    "        \n",
    "        \n",
    "    # train a model on the original data without under-sampling\n",
    "    # and determine model performance\n",
    "    roc = run_randomForests(X_train, X_test, y_train, y_test)\n",
    "    \n",
    "    # store results\n",
    "    results_dict[dataset]['full_data'] = roc\n",
    "    shapes_dict[dataset]['full_data'] = len(X_train)\n",
    "    \n",
    "    print()\n",
    "    \n",
    "    # now, we test the different under-samplers, 1 at a time\n",
    "    for undersampler in undersampler_dict.keys():\n",
    "        \n",
    "        print(undersampler)\n",
    "        \n",
    "        # resample the train set only\n",
    "        X_resampled, y_resampled = undersampler_dict[undersampler].fit_resample(X_train, y_train)\n",
    "        \n",
    "        # train model and evaluate performance\n",
    "        \n",
    "        # Note the performance returned is using the\n",
    "        # test set, which was not under-sampled\n",
    "        \n",
    "        roc = run_randomForests(X_resampled, X_test, y_resampled, y_test)\n",
    "        \n",
    "        # store results\n",
    "        results_dict[dataset][undersampler] = roc\n",
    "        shapes_dict[dataset][undersampler] = len(X_resampled)\n",
    "        print()\n",
    "        \n",
    "    print()\n",
    "        "
   ]
  },
  {
   "cell_type": "code",
   "execution_count": 7,
   "metadata": {},
   "outputs": [
    {
     "data": {
      "image/png": "[encoded data removed]",
      "text/plain": [
       "<Figure size 432x288 with 1 Axes>"
      ]
     },
     "metadata": {
      "needs_background": "light"
     },
     "output_type": "display_data"
    },
    {
     "data": {
      "image/png": "[encoded data removed]",
      "text/plain": [
       "<Figure size 432x288 with 1 Axes>"
      ]
     },
     "metadata": {
      "needs_background": "light"
     },
     "output_type": "display_data"
    },
    {
     "data": {
      "image/png": "[encoded data removed]",
      "text/plain": [
       "<Figure size 432x288 with 1 Axes>"
      ]
     },
     "metadata": {
      "needs_background": "light"
     },
     "output_type": "display_data"
    },
    {
     "data": {
      "image/png": "[encoded data removed]",
      "text/plain": [
       "<Figure size 432x288 with 1 Axes>"
      ]
     },
     "metadata": {
      "needs_background": "light"
     },
     "output_type": "display_data"
    },
    {
     "data": {
      "image/png": "[encoded data removed]",
      "text/plain": [
       "<Figure size 432x288 with 1 Axes>"
      ]
     },
     "metadata": {
      "needs_background": "light"
     },
     "output_type": "display_data"
    }
   ],
   "source": [
    "# Print the performance of the models trained with \n",
    "# the different under-sampling methods\n",
    "\n",
    "for dataset in datasets_ls:\n",
    "    \n",
    "    pd.Series(results_dict[dataset]).plot.bar()\n",
    "    plt.title(dataset)\n",
    "    plt.ylabel('roc-auc')\n",
    "#     plt.ylim(0.55, 0.9)\n",
    "    plt.axhline(results_dict[dataset]['full_data'], color='r')\n",
    "    plt.show()"
   ]
  },
  {
   "cell_type": "code",
   "execution_count": 8,
   "metadata": {},
   "outputs": [
    {
     "data": {
      "image/png": "[encoded data removed]",
      "text/plain": [
       "<Figure size 432x288 with 1 Axes>"
      ]
     },
     "metadata": {
      "needs_background": "light"
     },
     "output_type": "display_data"
    },
    {
     "data": {
      "image/png": "[encoded data removed]",
      "text/plain": [
       "<Figure size 432x288 with 1 Axes>"
      ]
     },
     "metadata": {
      "needs_background": "light"
     },
     "output_type": "display_data"
    },
    {
     "data": {
      "image/png": "[encoded data removed]",
      "text/plain": [
       "<Figure size 432x288 with 1 Axes>"
      ]
     },
     "metadata": {
      "needs_background": "light"
     },
     "output_type": "display_data"
    },
    {
     "data": {
      "image/png": "[encoded data removed]",
      "text/plain": [
       "<Figure size 432x288 with 1 Axes>"
      ]
     },
     "metadata": {
      "needs_background": "light"
     },
     "output_type": "display_data"
    },
    {
     "data": {
      "image/png": "[encoded data removed]",
      "text/plain": [
       "<Figure size 432x288 with 1 Axes>"
      ]
     },
     "metadata": {
      "needs_background": "light"
     },
     "output_type": "display_data"
    }
   ],
   "source": [
    "# same as above but with a narrower scale for visibility\n",
    "\n",
    "for dataset in datasets_ls:\n",
    "    \n",
    "    pd.Series(results_dict[dataset]).plot.bar()\n",
    "    plt.title(dataset)\n",
    "    plt.ylabel('roc-auc')\n",
    "    \n",
    "    # this bit of code to modify the y axis scale\n",
    "    plt.ylim(0.8, 1)\n",
    "    \n",
    "    plt.axhline(results_dict[dataset]['full_data'], color='r')\n",
    "    plt.show()"
   ]
  },
  {
   "cell_type": "markdown",
   "metadata": {},
   "source": [
    "**CONCLUSION**: Different under-sampling techniques work best for different datasets."
   ]
  },
  {
   "cell_type": "code",
   "execution_count": 9,
   "metadata": {},
   "outputs": [
    {
     "data": {
      "image/png": "[encoded data removed]",
      "text/plain": [
       "<Figure size 432x288 with 1 Axes>"
      ]
     },
     "metadata": {
      "needs_background": "light"
     },
     "output_type": "display_data"
    },
    {
     "data": {
      "image/png": "[encoded data removed]",
      "text/plain": [
       "<Figure size 432x288 with 1 Axes>"
      ]
     },
     "metadata": {
      "needs_background": "light"
     },
     "output_type": "display_data"
    },
    {
     "data": {
      "image/png": "[encoded data removed]",
      "text/plain": [
       "<Figure size 432x288 with 1 Axes>"
      ]
     },
     "metadata": {
      "needs_background": "light"
     },
     "output_type": "display_data"
    },
    {
     "data": {
      "image/png": "[encoded data removed]",
      "text/plain": [
       "<Figure size 432x288 with 1 Axes>"
      ]
     },
     "metadata": {
      "needs_background": "light"
     },
     "output_type": "display_data"
    },
    {
     "data": {
      "image/png": "[encoded data removed]",
      "text/plain": [
       "<Figure size 432x288 with 1 Axes>"
      ]
     },
     "metadata": {
      "needs_background": "light"
     },
     "output_type": "display_data"
    }
   ],
   "source": [
    "# To finish, I plot the shapes of the datasets after the\n",
    "# different under-sampling methods were applied, for comparison\n",
    "\n",
    "# note that the fixed methods (undersampling, near miss and\n",
    "# instance hardness threshold) return the smallest datasets\n",
    "\n",
    "# and from the cleaning methods, the Condensed nearest neighbours are \n",
    "# the more aggressive at the time of removing samples from the data\n",
    "\n",
    "for dataset in datasets_ls:\n",
    "    \n",
    "    pd.Series(shapes_dict[dataset]).plot.bar()\n",
    "    plt.title(dataset)\n",
    "    plt.ylabel('Number of observations')\n",
    "    plt.show()"
   ]
  },
  {
   "cell_type": "code",
   "execution_count": null,
   "metadata": {},
   "outputs": [],
   "source": []
  }
 ],
 "metadata": {
  "kernelspec": {
   "display_name": "fsml",
   "language": "python",
   "name": "fsml"
  },
  "language_info": {
   "codemirror_mode": {
    "name": "ipython",
    "version": 3
   },
   "file_extension": ".py",
   "mimetype": "text/x-python",
   "name": "python",
   "nbconvert_exporter": "python",
   "pygments_lexer": "ipython3",
   "version": "3.10.5"
  },
  "toc": {
   "base_numbering": 1,
   "nav_menu": {},
   "number_sections": true,
   "sideBar": true,
   "skip_h1_title": false,
   "title_cell": "Table of Contents",
   "title_sidebar": "Contents",
   "toc_cell": false,
   "toc_position": {},
   "toc_section_display": true,
   "toc_window_display": true
  }
 },
 "nbformat": 4,
 "nbformat_minor": 4
}
