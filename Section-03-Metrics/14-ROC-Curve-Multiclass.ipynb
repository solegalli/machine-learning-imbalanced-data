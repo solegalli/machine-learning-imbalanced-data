{
 "cells": [
  {
   "cell_type": "markdown",
   "metadata": {},
   "source": [
    "## ROC Curve and ROC-AUC in Multiclass\n",
    "\n",
    "[Machine Learning with Imbalanced Data - Course](https://www.trainindata.com/p/machine-learning-with-imbalanced-data)\n",
    "\n",
    "For multiclass classification, we have 2 options:\n",
    "\n",
    "- determine a ROC curve for each class.\n",
    "- determine the overall ROC curve as the micro-average of all classes.\n",
    "\n",
    "Let's see how to do both."
   ]
  },
  {
   "cell_type": "code",
   "execution_count": 1,
   "metadata": {},
   "outputs": [],
   "source": [
    "import numpy as np\n",
    "import pandas as pd\n",
    "import matplotlib.pyplot as plt\n",
    "\n",
    "from sklearn.datasets import load_wine\n",
    "from sklearn.ensemble import RandomForestClassifier\n",
    "from sklearn.linear_model import LogisticRegression\n",
    "from sklearn.model_selection import train_test_split\n",
    "from sklearn.multiclass import OneVsRestClassifier\n",
    "\n",
    "# to convert the 1-D target vector in to a matrix\n",
    "from sklearn.preprocessing import label_binarize\n",
    "\n",
    "from sklearn.metrics import roc_curve, roc_auc_score\n",
    "\n",
    "from yellowbrick.classifier import ROCAUC"
   ]
  },
  {
   "cell_type": "markdown",
   "metadata": {},
   "source": [
    "## Load data (multiclass)"
   ]
  },
  {
   "cell_type": "code",
   "execution_count": 2,
   "metadata": {},
   "outputs": [
    {
     "data": {
      "text/html": [
       "<div>\n",
       "<style scoped>\n",
       "    .dataframe tbody tr th:only-of-type {\n",
       "        vertical-align: middle;\n",
       "    }\n",
       "\n",
       "    .dataframe tbody tr th {\n",
       "        vertical-align: top;\n",
       "    }\n",
       "\n",
       "    .dataframe thead th {\n",
       "        text-align: right;\n",
       "    }\n",
       "</style>\n",
       "<table border=\"1\" class=\"dataframe\">\n",
       "  <thead>\n",
       "    <tr style=\"text-align: right;\">\n",
       "      <th></th>\n",
       "      <th>alcohol</th>\n",
       "      <th>malic_acid</th>\n",
       "      <th>ash</th>\n",
       "      <th>alcalinity_of_ash</th>\n",
       "      <th>magnesium</th>\n",
       "      <th>total_phenols</th>\n",
       "      <th>flavanoids</th>\n",
       "      <th>nonflavanoid_phenols</th>\n",
       "      <th>proanthocyanins</th>\n",
       "      <th>color_intensity</th>\n",
       "      <th>hue</th>\n",
       "      <th>od280/od315_of_diluted_wines</th>\n",
       "      <th>proline</th>\n",
       "      <th>target</th>\n",
       "    </tr>\n",
       "  </thead>\n",
       "  <tbody>\n",
       "    <tr>\n",
       "      <th>0</th>\n",
       "      <td>14.23</td>\n",
       "      <td>1.71</td>\n",
       "      <td>2.43</td>\n",
       "      <td>15.6</td>\n",
       "      <td>127.0</td>\n",
       "      <td>2.80</td>\n",
       "      <td>3.06</td>\n",
       "      <td>0.28</td>\n",
       "      <td>2.29</td>\n",
       "      <td>5.64</td>\n",
       "      <td>1.04</td>\n",
       "      <td>3.92</td>\n",
       "      <td>1065.0</td>\n",
       "      <td>0</td>\n",
       "    </tr>\n",
       "    <tr>\n",
       "      <th>1</th>\n",
       "      <td>13.20</td>\n",
       "      <td>1.78</td>\n",
       "      <td>2.14</td>\n",
       "      <td>11.2</td>\n",
       "      <td>100.0</td>\n",
       "      <td>2.65</td>\n",
       "      <td>2.76</td>\n",
       "      <td>0.26</td>\n",
       "      <td>1.28</td>\n",
       "      <td>4.38</td>\n",
       "      <td>1.05</td>\n",
       "      <td>3.40</td>\n",
       "      <td>1050.0</td>\n",
       "      <td>0</td>\n",
       "    </tr>\n",
       "    <tr>\n",
       "      <th>2</th>\n",
       "      <td>13.16</td>\n",
       "      <td>2.36</td>\n",
       "      <td>2.67</td>\n",
       "      <td>18.6</td>\n",
       "      <td>101.0</td>\n",
       "      <td>2.80</td>\n",
       "      <td>3.24</td>\n",
       "      <td>0.30</td>\n",
       "      <td>2.81</td>\n",
       "      <td>5.68</td>\n",
       "      <td>1.03</td>\n",
       "      <td>3.17</td>\n",
       "      <td>1185.0</td>\n",
       "      <td>0</td>\n",
       "    </tr>\n",
       "    <tr>\n",
       "      <th>3</th>\n",
       "      <td>14.37</td>\n",
       "      <td>1.95</td>\n",
       "      <td>2.50</td>\n",
       "      <td>16.8</td>\n",
       "      <td>113.0</td>\n",
       "      <td>3.85</td>\n",
       "      <td>3.49</td>\n",
       "      <td>0.24</td>\n",
       "      <td>2.18</td>\n",
       "      <td>7.80</td>\n",
       "      <td>0.86</td>\n",
       "      <td>3.45</td>\n",
       "      <td>1480.0</td>\n",
       "      <td>0</td>\n",
       "    </tr>\n",
       "    <tr>\n",
       "      <th>4</th>\n",
       "      <td>13.24</td>\n",
       "      <td>2.59</td>\n",
       "      <td>2.87</td>\n",
       "      <td>21.0</td>\n",
       "      <td>118.0</td>\n",
       "      <td>2.80</td>\n",
       "      <td>2.69</td>\n",
       "      <td>0.39</td>\n",
       "      <td>1.82</td>\n",
       "      <td>4.32</td>\n",
       "      <td>1.04</td>\n",
       "      <td>2.93</td>\n",
       "      <td>735.0</td>\n",
       "      <td>0</td>\n",
       "    </tr>\n",
       "  </tbody>\n",
       "</table>\n",
       "</div>"
      ],
      "text/plain": [
       "   alcohol  malic_acid   ash  alcalinity_of_ash  magnesium  total_phenols  \\\n",
       "0    14.23        1.71  2.43               15.6      127.0           2.80   \n",
       "1    13.20        1.78  2.14               11.2      100.0           2.65   \n",
       "2    13.16        2.36  2.67               18.6      101.0           2.80   \n",
       "3    14.37        1.95  2.50               16.8      113.0           3.85   \n",
       "4    13.24        2.59  2.87               21.0      118.0           2.80   \n",
       "\n",
       "   flavanoids  nonflavanoid_phenols  proanthocyanins  color_intensity   hue  \\\n",
       "0        3.06                  0.28             2.29             5.64  1.04   \n",
       "1        2.76                  0.26             1.28             4.38  1.05   \n",
       "2        3.24                  0.30             2.81             5.68  1.03   \n",
       "3        3.49                  0.24             2.18             7.80  0.86   \n",
       "4        2.69                  0.39             1.82             4.32  1.04   \n",
       "\n",
       "   od280/od315_of_diluted_wines  proline  target  \n",
       "0                          3.92   1065.0       0  \n",
       "1                          3.40   1050.0       0  \n",
       "2                          3.17   1185.0       0  \n",
       "3                          3.45   1480.0       0  \n",
       "4                          2.93    735.0       0  "
      ]
     },
     "execution_count": 2,
     "metadata": {},
     "output_type": "execute_result"
    }
   ],
   "source": [
    "# load data\n",
    "data = load_wine()\n",
    "\n",
    "data = pd.concat([\n",
    "    pd.DataFrame(data.data, columns=data.feature_names),\n",
    "    pd.DataFrame(data.target, columns=['target']),\n",
    "    ], axis=1)\n",
    "\n",
    "data.head()"
   ]
  },
  {
   "cell_type": "code",
   "execution_count": 3,
   "metadata": {},
   "outputs": [
    {
     "data": {
      "text/plain": [
       "target\n",
       "1    0.398876\n",
       "0    0.331461\n",
       "2    0.269663\n",
       "Name: proportion, dtype: float64"
      ]
     },
     "execution_count": 3,
     "metadata": {},
     "output_type": "execute_result"
    }
   ],
   "source": [
    "# target distribution:\n",
    "# multiclass and (fairly) balanced\n",
    "\n",
    "data.target.value_counts(normalize=True)"
   ]
  },
  {
   "cell_type": "code",
   "execution_count": 4,
   "metadata": {},
   "outputs": [
    {
     "data": {
      "text/plain": [
       "((124, 13), (54, 13))"
      ]
     },
     "execution_count": 4,
     "metadata": {},
     "output_type": "execute_result"
    }
   ],
   "source": [
    "# separate dataset into train and test\n",
    "\n",
    "X_train, X_test, y_train, y_test = train_test_split(\n",
    "    data.drop(labels=['target'], axis=1),  # drop the target\n",
    "    data['target'],  # just the target\n",
    "    test_size=0.3,\n",
    "    random_state=0)\n",
    "\n",
    "X_train.shape, X_test.shape"
   ]
  },
  {
   "cell_type": "code",
   "execution_count": 5,
   "metadata": {},
   "outputs": [
    {
     "data": {
      "text/plain": [
       "54     0\n",
       "151    2\n",
       "63     1\n",
       "55     0\n",
       "123    1\n",
       "121    1\n",
       "7      0\n",
       "160    2\n",
       "106    1\n",
       "90     1\n",
       "Name: target, dtype: int32"
      ]
     },
     "execution_count": 5,
     "metadata": {},
     "output_type": "execute_result"
    }
   ],
   "source": [
    "# the target is a vector with the 3 classes\n",
    "\n",
    "y_test[0:10]"
   ]
  },
  {
   "cell_type": "markdown",
   "metadata": {},
   "source": [
    "## Train ML models\n",
    "\n",
    "The dataset we are using is very, extremely simple, so I am creating dumb models intentionally, that is few trees and very shallow for the random forests and few iterations for the logit. This is, so that we can get the most out of the PR curves by inspecting them visually.\n",
    "\n",
    "\n",
    "### Random Forests\n",
    "\n",
    "The Random Forests in sklearn are not trained as a 1 vs Rest. So in order to produce a 1 vs rest probability vector for each class, we need to wrap this estimator with another one from sklearn:\n",
    "\n",
    "- [OneVsRestClassifier](https://scikit-learn.org/stable/modules/generated/sklearn.multiclass.OneVsRestClassifier.html)"
   ]
  },
  {
   "cell_type": "code",
   "execution_count": 6,
   "metadata": {
    "scrolled": true
   },
   "outputs": [
    {
     "data": {
      "text/plain": [
       "array([[0.65585892, 0.30751478, 0.0366263 ],\n",
       "       [0.05518233, 0.25215179, 0.69266589],\n",
       "       [0.34795739, 0.5812701 , 0.07077251],\n",
       "       [0.63193034, 0.32889668, 0.03917297],\n",
       "       [0.30310868, 0.49998879, 0.19690253],\n",
       "       [0.37648223, 0.53413382, 0.08938395],\n",
       "       [0.59288054, 0.31292709, 0.09419236],\n",
       "       [0.05019807, 0.22826575, 0.72153618],\n",
       "       [0.18841092, 0.71865205, 0.09293703],\n",
       "       [0.13170475, 0.67533883, 0.19295642]])"
      ]
     },
     "execution_count": 6,
     "metadata": {},
     "output_type": "execute_result"
    }
   ],
   "source": [
    "# set up the model, wrapped by the OneVsRestClassifier\n",
    "rf = OneVsRestClassifier(\n",
    "    RandomForestClassifier(\n",
    "        n_estimators=10, random_state=39, max_depth=1, n_jobs=4,\n",
    "    )\n",
    ")\n",
    "\n",
    "# train the model\n",
    "rf.fit(X_train, y_train)\n",
    "\n",
    "# produce the predictions (as probabilities)\n",
    "y_train_rf = rf.predict_proba(X_train)\n",
    "y_test_rf = rf.predict_proba(X_test)\n",
    "\n",
    "# note that the predictions are an array of 3 columns\n",
    "\n",
    "# first column: the probability of an observation of being of class 0\n",
    "# second column: the probability of an observation of being of class 1\n",
    "# third column: the probability of an observation of being of class 2\n",
    "\n",
    "y_test_rf[0:10, :]"
   ]
  },
  {
   "cell_type": "code",
   "execution_count": 7,
   "metadata": {},
   "outputs": [
    {
     "data": {
      "text/plain": [
       "0    1.0\n",
       "1    1.0\n",
       "2    1.0\n",
       "3    1.0\n",
       "4    1.0\n",
       "5    1.0\n",
       "6    1.0\n",
       "7    1.0\n",
       "8    1.0\n",
       "9    1.0\n",
       "dtype: float64"
      ]
     },
     "execution_count": 7,
     "metadata": {},
     "output_type": "execute_result"
    }
   ],
   "source": [
    "pd.DataFrame(y_test_rf).sum(axis=1)[0:10]"
   ]
  },
  {
   "cell_type": "code",
   "execution_count": 8,
   "metadata": {},
   "outputs": [
    {
     "data": {
      "text/plain": [
       "array([0, 2, 1, 0, 1, 1, 0, 2, 1, 1])"
      ]
     },
     "execution_count": 8,
     "metadata": {},
     "output_type": "execute_result"
    }
   ],
   "source": [
    "# The final prediction is that of the biggest probabiity\n",
    "\n",
    "rf.predict(X_test)[0:10]"
   ]
  },
  {
   "cell_type": "markdown",
   "metadata": {},
   "source": [
    "### Logistic Regression\n",
    "\n",
    "The Logistic regression supports 1 vs rest automatically though its multi_class parameter:"
   ]
  },
  {
   "cell_type": "code",
   "execution_count": 9,
   "metadata": {},
   "outputs": [
    {
     "name": "stderr",
     "output_type": "stream",
     "text": [
      "C:\\Users\\Sole\\Documents\\Repositories\\envs\\fsml\\lib\\site-packages\\sklearn\\linear_model\\_logistic.py:1256: FutureWarning: 'multi_class' was deprecated in version 1.5 and will be removed in 1.7. Use OneVsRestClassifier(LogisticRegression(..)) instead. Leave it to its default value to avoid this warning.\n",
      "  warnings.warn(\n",
      "C:\\Users\\Sole\\Documents\\Repositories\\envs\\fsml\\lib\\site-packages\\sklearn\\linear_model\\_logistic.py:469: ConvergenceWarning: lbfgs failed to converge (status=1):\n",
      "STOP: TOTAL NO. of ITERATIONS REACHED LIMIT.\n",
      "\n",
      "Increase the number of iterations (max_iter) or scale the data as shown in:\n",
      "    https://scikit-learn.org/stable/modules/preprocessing.html\n",
      "Please also refer to the documentation for alternative solver options:\n",
      "    https://scikit-learn.org/stable/modules/linear_model.html#logistic-regression\n",
      "  n_iter_i = _check_optimize_result(\n"
     ]
    },
    {
     "data": {
      "text/plain": [
       "array([[8.03835946e-01, 6.55703628e-02, 1.30593691e-01],\n",
       "       [1.12186161e-04, 6.18682106e-01, 3.81205708e-01],\n",
       "       [1.89065726e-03, 5.97109910e-01, 4.00999433e-01],\n",
       "       [8.38327387e-01, 4.50373337e-02, 1.16635279e-01],\n",
       "       [5.29907169e-04, 6.02840121e-01, 3.96629972e-01],\n",
       "       [1.44386555e-05, 6.27677859e-01, 3.72307703e-01],\n",
       "       [8.98500309e-01, 1.82105291e-02, 8.32891616e-02],\n",
       "       [8.63968121e-03, 5.62918752e-01, 4.28441566e-01],\n",
       "       [3.51523966e-02, 5.31592415e-01, 4.33255189e-01],\n",
       "       [1.77044639e-02, 5.57176456e-01, 4.25119080e-01]])"
      ]
     },
     "execution_count": 9,
     "metadata": {},
     "output_type": "execute_result"
    }
   ],
   "source": [
    "# set up the model\n",
    "logit = LogisticRegression(\n",
    "    random_state=0, multi_class='ovr', max_iter=10,\n",
    ")\n",
    "\n",
    "# train\n",
    "logit.fit(X_train, y_train)\n",
    "\n",
    "# obtain the probabilities\n",
    "y_train_logit = logit.predict_proba(X_train)\n",
    "y_test_logit = logit.predict_proba(X_test)\n",
    "\n",
    "# note that the predictions are an array of 3 columns\n",
    "\n",
    "# first column: the probability of an observation of being of class 0\n",
    "# second column: the probability of an observation of being of class 1\n",
    "# third column: the probability of an observation of being of class 2\n",
    "\n",
    "y_test_logit[0:10, :]"
   ]
  },
  {
   "cell_type": "code",
   "execution_count": 10,
   "metadata": {},
   "outputs": [
    {
     "data": {
      "text/plain": [
       "array([0, 1, 1, 0, 1, 1, 0, 1, 1, 1])"
      ]
     },
     "execution_count": 10,
     "metadata": {},
     "output_type": "execute_result"
    }
   ],
   "source": [
    "# The final prediction is that of the biggest probabiity\n",
    "\n",
    "logit.predict(X_test)[0:10]"
   ]
  },
  {
   "cell_type": "markdown",
   "metadata": {},
   "source": [
    "## ROC Curve\n",
    "\n",
    "### Per class with Sklearn"
   ]
  },
  {
   "cell_type": "code",
   "execution_count": 11,
   "metadata": {
    "scrolled": true
   },
   "outputs": [
    {
     "data": {
      "text/plain": [
       "array([[1, 0, 0],\n",
       "       [0, 0, 1],\n",
       "       [0, 1, 0],\n",
       "       [1, 0, 0],\n",
       "       [0, 1, 0],\n",
       "       [0, 1, 0],\n",
       "       [1, 0, 0],\n",
       "       [0, 0, 1],\n",
       "       [0, 1, 0],\n",
       "       [0, 1, 0]])"
      ]
     },
     "execution_count": 11,
     "metadata": {},
     "output_type": "execute_result"
    }
   ],
   "source": [
    "# with label_binarize we transform the target vector\n",
    "# into a multi-label matrix, so that it matches the \n",
    "# outputs of the models\n",
    "\n",
    "# then we have 1 class per column\n",
    "\n",
    "y_test = label_binarize(y_test, classes=[0, 1, 2])\n",
    "\n",
    "y_test[0:10, :]"
   ]
  },
  {
   "cell_type": "code",
   "execution_count": 12,
   "metadata": {},
   "outputs": [
    {
     "data": {
      "text/plain": [
       "array([0.        , 0.        , 0.        , 0.02439024, 0.02439024,\n",
       "       0.75609756, 0.80487805, 0.87804878, 0.92682927, 1.        ])"
      ]
     },
     "execution_count": 12,
     "metadata": {},
     "output_type": "execute_result"
    }
   ],
   "source": [
    "# now we determine the tpr and fpr at different thresholds\n",
    "# considering only the probability vector for class 2 and the true\n",
    "# target for class 2\n",
    "\n",
    "# so we treat the problem as class 2 vs rest\n",
    "\n",
    "fpr, tpr, thresholds = roc_curve(y_test[:, 2], y_test_rf[:, 2])\n",
    "\n",
    "# false positive rate\n",
    "fpr"
   ]
  },
  {
   "cell_type": "code",
   "execution_count": 13,
   "metadata": {},
   "outputs": [
    {
     "data": {
      "text/plain": [
       "array([0.        , 0.07692308, 0.84615385, 0.84615385, 1.        ,\n",
       "       1.        , 1.        , 1.        , 1.        , 1.        ])"
      ]
     },
     "execution_count": 13,
     "metadata": {},
     "output_type": "execute_result"
    }
   ],
   "source": [
    "# true positive rate\n",
    "tpr"
   ]
  },
  {
   "cell_type": "code",
   "execution_count": 14,
   "metadata": {},
   "outputs": [
    {
     "data": {
      "text/plain": [
       "array([       inf, 0.7853098 , 0.56716779, 0.54937457, 0.52316703,\n",
       "       0.04162779, 0.03917297, 0.03701947, 0.0366263 , 0.03188547])"
      ]
     },
     "execution_count": 14,
     "metadata": {},
     "output_type": "execute_result"
    }
   ],
   "source": [
    "# threhsolds examined\n",
    "thresholds"
   ]
  },
  {
   "cell_type": "markdown",
   "metadata": {},
   "source": [
    "Go ahead and examine the precision and recall for the other classes see how these values change."
   ]
  },
  {
   "cell_type": "code",
   "execution_count": 15,
   "metadata": {},
   "outputs": [
    {
     "data": {
      "text/plain": [
       "{0: array([0.        , 0.        , 0.        , 0.        , 0.        ,\n",
       "        0.        , 0.02857143, 0.02857143, 1.        ]),\n",
       " 1: array([0.     , 0.     , 0.     , 0.03125, 0.03125, 0.0625 , 0.0625 ,\n",
       "        0.375  , 0.4375 , 0.5625 , 0.625  , 0.625  , 1.     ]),\n",
       " 2: array([0.        , 0.        , 0.        , 0.02439024, 0.02439024,\n",
       "        0.75609756, 0.80487805, 0.87804878, 0.92682927, 1.        ])}"
      ]
     },
     "execution_count": 15,
     "metadata": {},
     "output_type": "execute_result"
    }
   ],
   "source": [
    "# now let's do these for all classes and capture the results in\n",
    "# dictionaries, so we can plot the values afterwards\n",
    "\n",
    "# determine the tpr and fpr\n",
    "# at various thresholds of probability\n",
    "# in a 1 vs all fashion, for each class\n",
    "\n",
    "fpr_rf = dict()\n",
    "tpr_rf = dict()\n",
    "\n",
    "# for each class\n",
    "for i in range(3):\n",
    "    \n",
    "    # determine tpr and fpr at various thresholds\n",
    "    # in a 1 vs all fashion\n",
    "    fpr_rf[i], tpr_rf[i], _ = roc_curve(\n",
    "        y_test[:, i], y_test_rf[:, i])\n",
    "    \n",
    "fpr_rf"
   ]
  },
  {
   "cell_type": "code",
   "execution_count": 16,
   "metadata": {},
   "outputs": [
    {
     "data": {
      "image/png": "[encoded data removed]",
      "text/plain": [
       "<Figure size 432x288 with 1 Axes>"
      ]
     },
     "metadata": {
      "needs_background": "light"
     },
     "output_type": "display_data"
    }
   ],
   "source": [
    "# plot the curves for each class\n",
    "\n",
    "\n",
    "for i in range(3):\n",
    "    \n",
    "    plt.plot(fpr_rf[i], tpr_rf[i], label='class {}'.format(i))\n",
    "\n",
    "    \n",
    "plt.xlabel('False Positive Rate')\n",
    "plt.ylabel('True Positive Rate')\n",
    "plt.title('Receiver operating characteristic example')\n",
    "plt.legend(loc=\"lower right\")\n",
    "plt.show()"
   ]
  },
  {
   "cell_type": "code",
   "execution_count": 17,
   "metadata": {},
   "outputs": [
    {
     "data": {
      "image/png": "[encoded data removed]",
      "text/plain": [
       "<Figure size 432x288 with 1 Axes>"
      ]
     },
     "metadata": {
      "needs_background": "light"
     },
     "output_type": "display_data"
    }
   ],
   "source": [
    "# and now for the logistic regression\n",
    "\n",
    "fpr_lg = dict()\n",
    "tpr_lg = dict()\n",
    "\n",
    "# for each class\n",
    "for i in range(3):\n",
    "    \n",
    "    # determine precision and recall at various thresholds\n",
    "    # in a 1 vs all fashion\n",
    "    fpr_lg[i], tpr_lg[i], _ = roc_curve(\n",
    "        y_test[:, i], y_test_logit[:, i])\n",
    "    \n",
    "    plt.plot(fpr_lg[i], tpr_lg[i], label='class {}'.format(i))\n",
    "\n",
    "plt.xlabel('False Positive Rate')\n",
    "plt.ylabel('True Positive Rate')\n",
    "plt.title('Receiver operating characteristic example')\n",
    "plt.legend(loc=\"lower right\")\n",
    "plt.show()"
   ]
  },
  {
   "cell_type": "code",
   "execution_count": 18,
   "metadata": {},
   "outputs": [
    {
     "data": {
      "image/png": "[encoded data removed]",
      "text/plain": [
       "<Figure size 432x288 with 1 Axes>"
      ]
     },
     "metadata": {
      "needs_background": "light"
     },
     "output_type": "display_data"
    },
    {
     "data": {
      "image/png": "[encoded data removed]",
      "text/plain": [
       "<Figure size 432x288 with 1 Axes>"
      ]
     },
     "metadata": {
      "needs_background": "light"
     },
     "output_type": "display_data"
    },
    {
     "data": {
      "image/png": "[encoded data removed]",
      "text/plain": [
       "<Figure size 432x288 with 1 Axes>"
      ]
     },
     "metadata": {
      "needs_background": "light"
     },
     "output_type": "display_data"
    }
   ],
   "source": [
    "# and now, just because it is a bit difficult to compare\n",
    "# between models, we plot the ROC curves class by class, \n",
    "# but the 2 models in the same plot\n",
    "\n",
    "\n",
    "# for each class\n",
    "for i in range(3):\n",
    "       \n",
    "    plt.plot(fpr_lg[i], tpr_lg[i], label='logit class {}'.format(i))\n",
    "    plt.plot(fpr_rf[i], tpr_rf[i], label='rf class {}'.format(i))\n",
    "    \n",
    "    plt.xlabel('False Positive Rate')\n",
    "    plt.ylabel('True Positive Rate')\n",
    "    plt.title('Receiver operating characteristic example')\n",
    "    plt.legend(loc=\"lower right\")\n",
    "    plt.show()"
   ]
  },
  {
   "cell_type": "markdown",
   "metadata": {},
   "source": [
    "We see that the Random Forest does a better job for all classes.\n",
    "\n",
    "### Micro-average with sklearn\n",
    "\n",
    "In order to do this, we concatenate all the probability vectors 1 after the other, and so we do with the real values."
   ]
  },
  {
   "cell_type": "code",
   "execution_count": 19,
   "metadata": {},
   "outputs": [
    {
     "data": {
      "text/plain": [
       "array([0.65585892, 0.30751478, 0.0366263 , 0.05518233, 0.25215179,\n",
       "       0.69266589, 0.34795739, 0.5812701 , 0.07077251, 0.63193034,\n",
       "       0.32889668, 0.03917297, 0.30310868, 0.49998879, 0.19690253,\n",
       "       0.37648223, 0.53413382, 0.08938395, 0.59288054, 0.31292709,\n",
       "       0.09419236, 0.05019807, 0.22826575, 0.72153618, 0.18841092,\n",
       "       0.71865205, 0.09293703, 0.13170475, 0.67533883, 0.19295642,\n",
       "       0.14215091, 0.29068131, 0.56716779, 0.03969788, 0.32611392,\n",
       "       0.6341882 , 0.67049232, 0.29443878, 0.03506889, 0.42327198,\n",
       "       0.50031035, 0.07641767, 0.0591323 , 0.26832053, 0.67254717,\n",
       "       0.15374694, 0.77041466, 0.07583841, 0.58034038, 0.38076094,\n",
       "       0.03889868, 0.62403154, 0.34111956, 0.0348489 , 0.1354814 ,\n",
       "       0.42117747, 0.44334113, 0.65216469, 0.31081584, 0.03701947,\n",
       "       0.40973074, 0.52592483, 0.06434443, 0.55023138, 0.40190058,\n",
       "       0.04786804, 0.44236274, 0.45261204, 0.10502522, 0.13095529,\n",
       "       0.7700388 , 0.09900591, 0.14384689, 0.30677854, 0.54937457,\n",
       "       0.11290956, 0.734811  , 0.15227945, 0.29692267, 0.48169245,\n",
       "       0.22138488, 0.07664904, 0.80683544, 0.11651551, 0.08368516,\n",
       "       0.68938168, 0.22693316, 0.05335845, 0.17967875, 0.7669628 ,\n",
       "       0.65585892, 0.30751478, 0.0366263 , 0.60886483, 0.34950738,\n",
       "       0.04162779, 0.13194245, 0.55479235, 0.3132652 , 0.58488937,\n",
       "       0.25709906, 0.15801157, 0.60962758, 0.35848695, 0.03188547,\n",
       "       0.54042436, 0.31834415, 0.14123148, 0.05415905, 0.35479745,\n",
       "       0.5910435 , 0.05261858, 0.61596739, 0.33141403, 0.25712406,\n",
       "       0.65099676, 0.09187918, 0.05698154, 0.19187912, 0.75113934,\n",
       "       0.41642178, 0.4926667 , 0.09091152, 0.5992422 , 0.36361114,\n",
       "       0.03714665, 0.2161622 , 0.70225678, 0.08158101, 0.16197861,\n",
       "       0.67853808, 0.15948331, 0.06427925, 0.83800877, 0.09771198,\n",
       "       0.56460202, 0.35339526, 0.08200272, 0.09184881, 0.19966669,\n",
       "       0.7084845 , 0.31190045, 0.59164533, 0.09645422, 0.16472028,\n",
       "       0.29112865, 0.54415106, 0.63193034, 0.32889668, 0.03917297,\n",
       "       0.04915754, 0.16553266, 0.7853098 , 0.04334764, 0.34255433,\n",
       "       0.61409803, 0.5857439 , 0.33623524, 0.07802086, 0.17079335,\n",
       "       0.30603962, 0.52316703])"
      ]
     },
     "execution_count": 19,
     "metadata": {},
     "output_type": "execute_result"
    }
   ],
   "source": [
    "# probability vectors for all classes in 1-d vector\n",
    "y_test_rf.ravel()"
   ]
  },
  {
   "cell_type": "code",
   "execution_count": 20,
   "metadata": {},
   "outputs": [
    {
     "data": {
      "text/plain": [
       "(54, 162)"
      ]
     },
     "execution_count": 20,
     "metadata": {},
     "output_type": "execute_result"
    }
   ],
   "source": [
    "# see that the unravelled prediction vector has 3 times the size\n",
    "# of the origina target\n",
    "\n",
    "len(y_test), len(y_test_rf.ravel())"
   ]
  },
  {
   "cell_type": "code",
   "execution_count": 21,
   "metadata": {},
   "outputs": [],
   "source": [
    "# A \"micro-average\": quantifying score on all classes jointly\n",
    "\n",
    "# for random forests\n",
    "# Compute micro-average ROC curve and ROC area\n",
    "fpr_rf[\"micro\"], tpr_rf[\"micro\"], _ = roc_curve(\n",
    "    y_test.ravel(), y_test_rf.ravel(),\n",
    ")\n",
    "\n",
    "# for logistic regression\n",
    "# Compute micro-average ROC curve and ROC area\n",
    "fpr_lg[\"micro\"], tpr_lg[\"micro\"], _ = roc_curve(\n",
    "    y_test.ravel(), y_test_logit.ravel(),\n",
    ")"
   ]
  },
  {
   "cell_type": "code",
   "execution_count": 22,
   "metadata": {},
   "outputs": [
    {
     "data": {
      "image/png": "[encoded data removed]",
      "text/plain": [
       "<Figure size 432x288 with 1 Axes>"
      ]
     },
     "metadata": {
      "needs_background": "light"
     },
     "output_type": "display_data"
    }
   ],
   "source": [
    "# now we plot them next to each other\n",
    "\n",
    "i = \"micro\"\n",
    "\n",
    "plt.plot(fpr_lg[i], tpr_lg[i], label='logit micro {}')\n",
    "plt.plot(fpr_rf[i], tpr_rf[i], label='rf micro {}')\n",
    "\n",
    "plt.xlabel('False Positive Rate')\n",
    "plt.ylabel('True Positive Rate')\n",
    "plt.title('Receiver operating characteristic example')\n",
    "plt.legend(loc=\"lower right\")\n",
    "plt.show()"
   ]
  },
  {
   "cell_type": "markdown",
   "metadata": {},
   "source": [
    "## ROC-AUC with sklearn"
   ]
  },
  {
   "cell_type": "code",
   "execution_count": 23,
   "metadata": {},
   "outputs": [
    {
     "name": "stdout",
     "output_type": "stream",
     "text": [
      "One-vs-One ROC AUC scores:\n",
      "0.987358 (macro),\n",
      "0.985257 (weighted)\n",
      "One-vs-Rest ROC AUC scores:\n",
      "0.987358 (macro),\n",
      "0.985257 (weighted)\n"
     ]
    }
   ],
   "source": [
    "macro_roc_auc_ovo = roc_auc_score(\n",
    "    y_test, y_test_rf, multi_class=\"ovo\", average=\"macro\")\n",
    "\n",
    "weighted_roc_auc_ovo = roc_auc_score(\n",
    "    y_test, y_test_rf, multi_class=\"ovo\", average=\"weighted\")\n",
    "\n",
    "macro_roc_auc_ovr = roc_auc_score(\n",
    "    y_test, y_test_rf, multi_class=\"ovr\", average=\"macro\")\n",
    "\n",
    "weighted_roc_auc_ovr = roc_auc_score(\n",
    "    y_test, y_test_rf, multi_class=\"ovr\", average=\"weighted\")\n",
    "\n",
    "print(\"One-vs-One ROC AUC scores:\\n{:.6f} (macro),\\n{:.6f} \"\n",
    "      \"(weighted)\"\n",
    "      .format(macro_roc_auc_ovo, weighted_roc_auc_ovo))\n",
    "\n",
    "print(\"One-vs-Rest ROC AUC scores:\\n{:.6f} (macro),\\n{:.6f} \"\n",
    "      \"(weighted)\"\n",
    "      .format(macro_roc_auc_ovr, weighted_roc_auc_ovr))"
   ]
  },
  {
   "cell_type": "code",
   "execution_count": 24,
   "metadata": {},
   "outputs": [
    {
     "name": "stdout",
     "output_type": "stream",
     "text": [
      "One-vs-One ROC AUC scores:\n",
      "0.860891 (macro),\n",
      "0.868506 (weighted)\n",
      "One-vs-Rest ROC AUC scores:\n",
      "0.860891 (macro),\n",
      "0.868506 (weighted)\n"
     ]
    }
   ],
   "source": [
    "macro_roc_auc_ovo = roc_auc_score(\n",
    "    y_test, y_test_logit, multi_class=\"ovo\", average=\"macro\")\n",
    "\n",
    "weighted_roc_auc_ovo = roc_auc_score(\n",
    "    y_test, y_test_logit, multi_class=\"ovo\", average=\"weighted\")\n",
    "\n",
    "macro_roc_auc_ovr = roc_auc_score(\n",
    "    y_test, y_test_logit, multi_class=\"ovr\", average=\"macro\")\n",
    "\n",
    "weighted_roc_auc_ovr = roc_auc_score(\n",
    "    y_test, y_test_logit, multi_class=\"ovr\", average=\"weighted\")\n",
    "\n",
    "print(\"One-vs-One ROC AUC scores:\\n{:.6f} (macro),\\n{:.6f} \"\n",
    "      \"(weighted)\"\n",
    "      .format(macro_roc_auc_ovo, weighted_roc_auc_ovo))\n",
    "\n",
    "print(\"One-vs-Rest ROC AUC scores:\\n{:.6f} (macro),\\n{:.6f} \"\n",
    "      \"(weighted)\"\n",
    "      .format(macro_roc_auc_ovr, weighted_roc_auc_ovr))"
   ]
  },
  {
   "cell_type": "markdown",
   "metadata": {},
   "source": [
    "## ROC curve and ROC-AUC\n",
    "\n",
    "### Per class with Yellobrick\n",
    "\n",
    "**Note:**\n",
    "\n",
    "In the cells below, we are passing to Yellobrick classes a model that is already fit. When we fit() the Yellobrick class, it will check if the model is fit, in which case it will do nothing.\n",
    "\n",
    "If we pass a model that is not fit, and a multiclass target, Yellowbrick will wrap the model automatically with a 1 vs Rest classifier. \n",
    "\n",
    "Check Yellobrick's documentation for more details."
   ]
  },
  {
   "cell_type": "code",
   "execution_count": 25,
   "metadata": {},
   "outputs": [],
   "source": [
    "rf =  RandomForestClassifier(\n",
    "        n_estimators=10, random_state=39, max_depth=1, n_jobs=4,\n",
    ")\n",
    "\n",
    "logit = LogisticRegression(\n",
    "    random_state=0, multi_class='ovr', max_iter=10,\n",
    ")"
   ]
  },
  {
   "cell_type": "code",
   "execution_count": 26,
   "metadata": {},
   "outputs": [
    {
     "data": {
      "text/plain": [
       "array([0, 2, 1, 0, 1, 1, 0, 2, 1, 1, 2, 2, 0, 1, 2, 1, 0, 0, 1, 0, 1, 0,\n",
       "       0, 1, 1, 1, 1, 1, 1, 2, 0, 0, 1, 0, 0, 0, 2, 1, 1, 2, 0, 0, 1, 1,\n",
       "       1, 0, 2, 1, 2, 0, 2, 2, 0, 2], dtype=int64)"
      ]
     },
     "execution_count": 26,
     "metadata": {},
     "output_type": "execute_result"
    }
   ],
   "source": [
    "# let's reconstitute the original format of\n",
    "# the target for this calculations\n",
    "\n",
    "y_test = np.argmax(y_test, axis=1)\n",
    "\n",
    "y_test"
   ]
  },
  {
   "cell_type": "code",
   "execution_count": 27,
   "metadata": {},
   "outputs": [
    {
     "data": {
      "image/png": "[encoded data removed]",
      "text/plain": [
       "<Figure size 432x288 with 1 Axes>"
      ]
     },
     "metadata": {
      "needs_background": "light"
     },
     "output_type": "display_data"
    },
    {
     "data": {
      "text/plain": [
       "<Axes: title={'center': 'ROC Curves for RandomForestClassifier'}, xlabel='False Positive Rate', ylabel='True Positive Rate'>"
      ]
     },
     "execution_count": 27,
     "metadata": {},
     "output_type": "execute_result"
    }
   ],
   "source": [
    "visualizer = ROCAUC(\n",
    "    rf, per_class=True, cmap=\"cool\", micro=False,\n",
    ")\n",
    "\n",
    "visualizer.fit(X_train, y_train)        # Fit the training data to the visualizer\n",
    "visualizer.score(X_test, y_test)        # Evaluate the model on the test data\n",
    "visualizer.show()                       # Finalize and show the figure"
   ]
  },
  {
   "cell_type": "code",
   "execution_count": 28,
   "metadata": {},
   "outputs": [
    {
     "name": "stderr",
     "output_type": "stream",
     "text": [
      "C:\\Users\\Sole\\Documents\\Repositories\\envs\\fsml\\lib\\site-packages\\sklearn\\linear_model\\_logistic.py:1256: FutureWarning: 'multi_class' was deprecated in version 1.5 and will be removed in 1.7. Use OneVsRestClassifier(LogisticRegression(..)) instead. Leave it to its default value to avoid this warning.\n",
      "  warnings.warn(\n",
      "C:\\Users\\Sole\\Documents\\Repositories\\envs\\fsml\\lib\\site-packages\\sklearn\\linear_model\\_logistic.py:469: ConvergenceWarning: lbfgs failed to converge (status=1):\n",
      "STOP: TOTAL NO. of ITERATIONS REACHED LIMIT.\n",
      "\n",
      "Increase the number of iterations (max_iter) or scale the data as shown in:\n",
      "    https://scikit-learn.org/stable/modules/preprocessing.html\n",
      "Please also refer to the documentation for alternative solver options:\n",
      "    https://scikit-learn.org/stable/modules/linear_model.html#logistic-regression\n",
      "  n_iter_i = _check_optimize_result(\n"
     ]
    },
    {
     "data": {
      "image/png": "[encoded data removed]",
      "text/plain": [
       "<Figure size 432x288 with 1 Axes>"
      ]
     },
     "metadata": {
      "needs_background": "light"
     },
     "output_type": "display_data"
    },
    {
     "data": {
      "text/plain": [
       "<Axes: title={'center': 'ROC Curves for LogisticRegression'}, xlabel='False Positive Rate', ylabel='True Positive Rate'>"
      ]
     },
     "execution_count": 28,
     "metadata": {},
     "output_type": "execute_result"
    }
   ],
   "source": [
    "visualizer = ROCAUC(\n",
    "    logit, per_class=True, cmap=\"cool\", micro=False, cv=0.05,\n",
    ")\n",
    "\n",
    "visualizer.fit(X_train, y_train)        # Fit the training data to the visualizer\n",
    "visualizer.score(X_test, y_test)        # Evaluate the model on the test data\n",
    "visualizer.show()                       # Finalize and show the figure"
   ]
  },
  {
   "cell_type": "markdown",
   "metadata": {},
   "source": [
    "### Micro yellowbrick\n",
    "\n",
    "- [ROCAUC](https://www.scikit-yb.org/en/latest/api/classifier/rocauc.html)"
   ]
  },
  {
   "cell_type": "code",
   "execution_count": 29,
   "metadata": {},
   "outputs": [
    {
     "name": "stderr",
     "output_type": "stream",
     "text": [
      "C:\\Users\\Sole\\Documents\\Repositories\\envs\\fsml\\lib\\site-packages\\sklearn\\base.py:493: UserWarning: X does not have valid feature names, but RandomForestClassifier was fitted with feature names\n",
      "  warnings.warn(\n"
     ]
    },
    {
     "data": {
      "image/png": "[encoded data removed]",
      "text/plain": [
       "<Figure size 432x288 with 1 Axes>"
      ]
     },
     "metadata": {
      "needs_background": "light"
     },
     "output_type": "display_data"
    },
    {
     "data": {
      "text/plain": [
       "<Axes: title={'center': 'ROC Curves for RandomForestClassifier'}, xlabel='False Positive Rate', ylabel='True Positive Rate'>"
      ]
     },
     "execution_count": 29,
     "metadata": {},
     "output_type": "execute_result"
    }
   ],
   "source": [
    "visualizer = ROCAUC(\n",
    "    rf, per_class = False, cmap=\"cool\", micro=True,\n",
    ")\n",
    "\n",
    "visualizer.fit(X_train, y_train)        # Fit the training data to the visualizer\n",
    "visualizer.score(X_test, y_test)        # Evaluate the model on the test data\n",
    "visualizer.show()                       # Finalize and show the figure"
   ]
  },
  {
   "cell_type": "code",
   "execution_count": 30,
   "metadata": {
    "scrolled": false
   },
   "outputs": [
    {
     "name": "stderr",
     "output_type": "stream",
     "text": [
      "C:\\Users\\Sole\\Documents\\Repositories\\envs\\fsml\\lib\\site-packages\\sklearn\\base.py:493: UserWarning: X does not have valid feature names, but LogisticRegression was fitted with feature names\n",
      "  warnings.warn(\n"
     ]
    },
    {
     "data": {
      "image/png": "[encoded data removed]",
      "text/plain": [
       "<Figure size 432x288 with 1 Axes>"
      ]
     },
     "metadata": {
      "needs_background": "light"
     },
     "output_type": "display_data"
    },
    {
     "data": {
      "text/plain": [
       "<Axes: title={'center': 'ROC Curves for LogisticRegression'}, xlabel='False Positive Rate', ylabel='True Positive Rate'>"
      ]
     },
     "execution_count": 30,
     "metadata": {},
     "output_type": "execute_result"
    }
   ],
   "source": [
    "visualizer = ROCAUC(\n",
    "    logit, per_class = False, cmap=\"cool\", micro=True, cv=0.05,\n",
    ")\n",
    "\n",
    "visualizer.fit(X_train, y_train)        # Fit the training data to the visualizer\n",
    "visualizer.score(X_test, y_test)        # Evaluate the model on the test data\n",
    "visualizer.show()                       # Finalize and show the figure"
   ]
  }
 ],
 "metadata": {
  "kernelspec": {
   "display_name": "fsml",
   "language": "python",
   "name": "fsml"
  },
  "language_info": {
   "codemirror_mode": {
    "name": "ipython",
    "version": 3
   },
   "file_extension": ".py",
   "mimetype": "text/x-python",
   "name": "python",
   "nbconvert_exporter": "python",
   "pygments_lexer": "ipython3",
   "version": "3.10.5"
  },
  "toc": {
   "base_numbering": 1,
   "nav_menu": {},
   "number_sections": true,
   "sideBar": true,
   "skip_h1_title": false,
   "title_cell": "Table of Contents",
   "title_sidebar": "Contents",
   "toc_cell": false,
   "toc_position": {
    "height": "calc(100% - 180px)",
    "left": "10px",
    "top": "150px",
    "width": "319.3px"
   },
   "toc_section_display": true,
   "toc_window_display": true
  }
 },
 "nbformat": 4,
 "nbformat_minor": 4
}
