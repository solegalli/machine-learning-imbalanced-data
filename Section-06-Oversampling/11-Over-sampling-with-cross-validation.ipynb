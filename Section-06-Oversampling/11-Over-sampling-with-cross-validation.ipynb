{
 "cells": [
  {
   "cell_type": "markdown",
   "metadata": {},
   "source": [
    "## Over-sampling with cross-validation\n",
    "\n",
    "[Machine Learning with Imbalanced Data - Course](https://www.trainindata.com/p/machine-learning-with-imbalanced-data)\n",
    "\n",
    "When we train a classifier, we want it to predict an outcome in a real life dataset. Thus, it is important to evaluate the performance of the classifier on a data set with the original distribution of classes, and not on the rebalanced data.\n",
    "\n",
    "This means, that the over-sampling methods should be performed on the dataset that we are going to use to train the classifier. But, **the performance of the model should be determined on a portion of the data, that was not re-sampled**.\n",
    "\n",
    "In this notebook, we will use the imbalanced-learn pipeline, to set up various over-sampling solutions in a way that we train the model on re-sampled data, but we evaluate performance on non-resampled data."
   ]
  },
  {
   "cell_type": "code",
   "execution_count": 1,
   "metadata": {},
   "outputs": [],
   "source": [
    "from collections import Counter\n",
    "\n",
    "import pandas as pd\n",
    "import matplotlib.pyplot as plt\n",
    "\n",
    "from sklearn.ensemble import RandomForestClassifier\n",
    "from sklearn.metrics import roc_auc_score\n",
    "from sklearn.model_selection import train_test_split, cross_validate\n",
    "from sklearn.preprocessing import MinMaxScaler\n",
    "from sklearn.svm import SVC\n",
    "\n",
    "from imblearn.datasets import fetch_datasets\n",
    "\n",
    "# to correctly set up the cross-validation\n",
    "from imblearn.pipeline import make_pipeline\n",
    "\n",
    "\n",
    "from imblearn.over_sampling import (\n",
    "    RandomOverSampler,\n",
    "    SMOTE,\n",
    "    ADASYN,\n",
    "    BorderlineSMOTE,\n",
    "    SVMSMOTE,\n",
    ")"
   ]
  },
  {
   "cell_type": "code",
   "execution_count": 2,
   "metadata": {},
   "outputs": [],
   "source": [
    "oversampler_dict = {\n",
    "\n",
    "    'random': RandomOverSampler(\n",
    "        sampling_strategy='auto',\n",
    "        random_state=0),\n",
    "\n",
    "    'smote': SMOTE(\n",
    "        sampling_strategy='auto',  # samples only the minority class\n",
    "        random_state=0,  # for reproducibility\n",
    "        k_neighbors=5,\n",
    "        ),\n",
    "\n",
    "    'adasyn': ADASYN(\n",
    "        sampling_strategy='auto',  # samples only the minority class\n",
    "        random_state=0,  # for reproducibility\n",
    "        n_neighbors=5,\n",
    "        ),\n",
    "\n",
    "    'border1': BorderlineSMOTE(\n",
    "        sampling_strategy='auto',  # samples only the minority class\n",
    "        random_state=0,  # for reproducibility\n",
    "        k_neighbors=5,\n",
    "        m_neighbors=10,\n",
    "        kind='borderline-1',\n",
    "        ),\n",
    "\n",
    "    'border2': BorderlineSMOTE(\n",
    "        sampling_strategy='auto',  # samples only the minority class\n",
    "        random_state=0,  # for reproducibility\n",
    "        k_neighbors=5,\n",
    "        m_neighbors=10,\n",
    "        kind='borderline-2',\n",
    "        ),\n",
    "\n",
    "    'svm': SVMSMOTE(\n",
    "        sampling_strategy='auto',  # samples only the minority class\n",
    "        random_state=0,  # for reproducibility\n",
    "        k_neighbors=5,\n",
    "        m_neighbors=10,\n",
    "        svm_estimator=SVC(kernel='linear')),\n",
    "}"
   ]
  },
  {
   "cell_type": "code",
   "execution_count": 3,
   "metadata": {},
   "outputs": [],
   "source": [
    "datasets_ls = [\n",
    "    'car_eval_34',\n",
    "    'ecoli',\n",
    "    'thyroid_sick',\n",
    "    'arrhythmia',\n",
    "    'ozone_level'\n",
    "]"
   ]
  },
  {
   "cell_type": "code",
   "execution_count": 4,
   "metadata": {},
   "outputs": [
    {
     "name": "stdout",
     "output_type": "stream",
     "text": [
      "car_eval_34\n",
      "Counter({-1: 1594, 1: 134})\n",
      "\n",
      "ecoli\n",
      "Counter({-1: 301, 1: 35})\n",
      "\n",
      "thyroid_sick\n",
      "Counter({-1: 3541, 1: 231})\n",
      "\n",
      "arrhythmia\n",
      "Counter({-1: 427, 1: 25})\n",
      "\n",
      "ozone_level\n",
      "Counter({-1: 2463, 1: 73})\n",
      "\n"
     ]
    }
   ],
   "source": [
    "# print class imbalance\n",
    "\n",
    "for dataset in datasets_ls:\n",
    "    data = fetch_datasets()[dataset]\n",
    "    print(dataset)\n",
    "    print(Counter(data.target))\n",
    "    print()"
   ]
  },
  {
   "cell_type": "code",
   "execution_count": 5,
   "metadata": {},
   "outputs": [],
   "source": [
    "# function to train random forests and evaluate the performance\n",
    "\n",
    "# ***with cross-validation***\n",
    "\n",
    "def run_model(X_train, y_train, oversampler=None):\n",
    "    \n",
    "    # set up the classifier\n",
    "    rf = RandomForestClassifier(\n",
    "            n_estimators=100, random_state=39, max_depth=3, n_jobs=4\n",
    "        )\n",
    "    \n",
    "    # set up a scaler \n",
    "    # (as the oversampling techniques use KNN\n",
    "    # we put the variables in the same scale)\n",
    "    scaler = MinMaxScaler()\n",
    "    \n",
    "    # without sampling:\n",
    "    if not oversampler:\n",
    "\n",
    "        model = rf\n",
    "    \n",
    "    # set up a pipeline with sampling:\n",
    "    else:\n",
    "        \n",
    "        # important to scale before the re-sampler\n",
    "        # as the many of methods require the variables in \n",
    "        # a similar scale\n",
    "        model = make_pipeline(\n",
    "            scaler,\n",
    "            oversampler,\n",
    "            rf,\n",
    "        )\n",
    "        \n",
    "        \n",
    "    # When we make a pipeline and then run the training of the model\n",
    "    # with cross-validation, the procedure works as follows:\n",
    "    \n",
    "    # 1) take 2 of the 3 fold as train set\n",
    "    # 2) resample the 2 fold (aka, the train set)\n",
    "    # 3) train the model on the resampled data from point 2\n",
    "    # 4) evaluate performance on the 3rd fold, that was not resampled\n",
    "    \n",
    "    # this way, we make sure that we are not evaluating the performance\n",
    "    # of our classifier on the over-sampled data\n",
    "    \n",
    "    cv_results = cross_validate(\n",
    "        model, # the random forest or the pipeline\n",
    "        X_train, # the data that will be used in the cross-validation\n",
    "        y_train, # the target\n",
    "        scoring=\"average_precision\", # the metric that we want to evaluate\n",
    "        cv=3, # the cross-validation fold\n",
    "    )\n",
    "\n",
    "    print(\n",
    "        'Random Forests average precision: {0} +/- {1}'.format(\n",
    "        cv_results['test_score'].mean(), cv_results['test_score'].std()\n",
    "        )\n",
    "    )\n",
    "\n",
    "    return cv_results['test_score'].mean(), cv_results['test_score'].std()"
   ]
  },
  {
   "cell_type": "code",
   "execution_count": 6,
   "metadata": {
    "scrolled": true
   },
   "outputs": [
    {
     "name": "stdout",
     "output_type": "stream",
     "text": [
      "car_eval_34\n",
      "Random Forests average precision: 0.7481090731569603 +/- 0.0640047618385711\n",
      "\n",
      "random\n",
      "Random Forests average precision: 0.8433408505659911 +/- 0.07516648844294718\n",
      "\n",
      "smote\n",
      "Random Forests average precision: 0.7996390750105542 +/- 0.05299447011827732\n",
      "\n",
      "adasyn\n",
      "Random Forests average precision: 0.8534778624552185 +/- 0.07281179509488941\n",
      "\n",
      "border1\n",
      "Random Forests average precision: 0.8399845888503005 +/- 0.048109741667921035\n",
      "\n",
      "border2\n",
      "Random Forests average precision: 0.8664604063467571 +/- 0.022270048256943384\n",
      "\n",
      "svm\n",
      "Random Forests average precision: 0.7059336223079122 +/- 0.08751026404754379\n",
      "\n",
      "\n",
      "ecoli\n",
      "Random Forests average precision: 0.6687434616841758 +/- 0.11512585309131046\n",
      "\n",
      "random\n",
      "Random Forests average precision: 0.5853702816801476 +/- 0.01634245823762112\n",
      "\n",
      "smote\n",
      "Random Forests average precision: 0.590252824084061 +/- 0.05876172398967219\n",
      "\n",
      "adasyn\n",
      "Random Forests average precision: 0.5798786475869809 +/- 0.022512165969597202\n",
      "\n",
      "border1\n",
      "Random Forests average precision: 0.5823857212746102 +/- 0.02183396020270867\n",
      "\n",
      "border2\n",
      "Random Forests average precision: 0.5441272309986731 +/- 0.008963351156231474\n",
      "\n",
      "svm\n",
      "Random Forests average precision: 0.5474609467584092 +/- 0.07975208316696014\n",
      "\n",
      "\n",
      "thyroid_sick\n",
      "Random Forests average precision: 0.7322649404994692 +/- 0.03975702483248149\n",
      "\n",
      "random\n",
      "Random Forests average precision: 0.7461089153983519 +/- 0.028677373714116352\n",
      "\n",
      "smote\n",
      "Random Forests average precision: 0.7499002753177826 +/- 0.03521238392967543\n",
      "\n",
      "adasyn\n",
      "Random Forests average precision: 0.7593592451647876 +/- 0.02809139413760137\n",
      "\n",
      "border1\n",
      "Random Forests average precision: 0.7553416740383198 +/- 0.019035045231196035\n",
      "\n",
      "border2\n",
      "Random Forests average precision: 0.7070259331776071 +/- 0.05065124294444508\n",
      "\n",
      "svm\n",
      "Random Forests average precision: 0.6944451394352286 +/- 0.02752424762788304\n",
      "\n",
      "\n",
      "arrhythmia\n",
      "Random Forests average precision: 0.3320173328945259 +/- 0.10781020512179744\n",
      "\n",
      "random\n",
      "Random Forests average precision: 0.19265498953657123 +/- 0.12365596272382529\n",
      "\n",
      "smote\n",
      "Random Forests average precision: 0.28094512870490346 +/- 0.11718707621453443\n",
      "\n",
      "adasyn\n",
      "Random Forests average precision: 0.21858369835121047 +/- 0.07903768849478741\n",
      "\n",
      "border1\n",
      "Random Forests average precision: 0.21519007716800587 +/- 0.06592152498631552\n",
      "\n",
      "border2\n",
      "Random Forests average precision: 0.2293388692198068 +/- 0.1167528059536435\n",
      "\n",
      "svm\n",
      "Random Forests average precision: 0.23643179018861182 +/- 0.05849163930590987\n",
      "\n",
      "\n",
      "ozone_level\n",
      "Random Forests average precision: 0.29837510195324496 +/- 0.07219095034389267\n",
      "\n",
      "random\n",
      "Random Forests average precision: 0.3251610528628394 +/- 0.09466759595662522\n",
      "\n",
      "smote\n",
      "Random Forests average precision: 0.3731799494171964 +/- 0.05635440360271306\n",
      "\n",
      "adasyn\n",
      "Random Forests average precision: 0.3376059453382863 +/- 0.07914018212011441\n",
      "\n",
      "border1\n",
      "Random Forests average precision: 0.33355510425465623 +/- 0.05555623779583268\n",
      "\n",
      "border2\n",
      "Random Forests average precision: 0.33242600275123735 +/- 0.06947577460829699\n",
      "\n",
      "svm\n",
      "Random Forests average precision: 0.29428002858921065 +/- 0.07075513390130765\n",
      "\n",
      "\n"
     ]
    }
   ],
   "source": [
    "# now we train several models, with the different over-samplers and\n",
    "# with cross-validation for each dataset\n",
    "\n",
    "# to save the results\n",
    "pr_mean_dict = {}\n",
    "pr_std_dict = {}\n",
    "\n",
    "\n",
    "for dataset in datasets_ls:\n",
    "    \n",
    "    # initiate a dictionary per dataset\n",
    "    pr_mean_dict[dataset] = {}\n",
    "    pr_std_dict[dataset] = {}\n",
    "    \n",
    "    print(dataset)\n",
    "    \n",
    "    # load dataset\n",
    "    data = fetch_datasets()[dataset]\n",
    "    \n",
    "    # separate dataset into train and test\n",
    "    X_train, X_test, y_train, y_test = train_test_split(\n",
    "        data.data,  \n",
    "        data.target, \n",
    "        test_size=0.3,\n",
    "        random_state=0,\n",
    "    )\n",
    "   \n",
    "    \n",
    "    # train model on data without re-sampling\n",
    "    # with cross-validation\n",
    "    aps_mean, aps_std = run_model(X_train, y_train)\n",
    "    \n",
    "    # store results\n",
    "    pr_mean_dict[dataset]['full_data'] = aps_mean\n",
    "    pr_std_dict[dataset]['full_data'] = aps_std\n",
    "    \n",
    "    print()\n",
    "    \n",
    "    for oversampler in oversampler_dict.keys():\n",
    "        \n",
    "        print(oversampler)\n",
    "               \n",
    "        # resample, train and evaluate performance\n",
    "        # with cross-validation\n",
    "        aps_mean, aps_std = run_model(X_train, y_train, oversampler_dict[oversampler])\n",
    "        \n",
    "        #store results\n",
    "        pr_mean_dict[dataset][oversampler] = aps_mean\n",
    "        pr_std_dict[dataset][oversampler] = aps_std\n",
    "        print()\n",
    "        \n",
    "    print()"
   ]
  },
  {
   "cell_type": "code",
   "execution_count": 7,
   "metadata": {},
   "outputs": [
    {
     "data": {
      "image/png": "[encoded data removed]",
      "text/plain": [
       "<Figure size 432x288 with 1 Axes>"
      ]
     },
     "metadata": {
      "needs_background": "light"
     },
     "output_type": "display_data"
    },
    {
     "data": {
      "image/png": "[encoded data removed]",
      "text/plain": [
       "<Figure size 432x288 with 1 Axes>"
      ]
     },
     "metadata": {
      "needs_background": "light"
     },
     "output_type": "display_data"
    },
    {
     "data": {
      "image/png": "[encoded data removed]",
      "text/plain": [
       "<Figure size 432x288 with 1 Axes>"
      ]
     },
     "metadata": {
      "needs_background": "light"
     },
     "output_type": "display_data"
    },
    {
     "data": {
      "image/png": "[encoded data removed]",
      "text/plain": [
       "<Figure size 432x288 with 1 Axes>"
      ]
     },
     "metadata": {
      "needs_background": "light"
     },
     "output_type": "display_data"
    },
    {
     "data": {
      "image/png": "[encoded data removed]",
      "text/plain": [
       "<Figure size 432x288 with 1 Axes>"
      ]
     },
     "metadata": {
      "needs_background": "light"
     },
     "output_type": "display_data"
    }
   ],
   "source": [
    "# Now we plot the performance of the model in the \n",
    "# left out fold, that was not resampled, from the X_train\n",
    "\n",
    "for dataset in datasets_ls:\n",
    "    \n",
    "    pr_mean_s = pd.Series(pr_mean_dict[dataset])\n",
    "    pr_std_s = pd.Series(pr_std_dict[dataset])\n",
    "    \n",
    "    pr_mean_s.plot.bar(yerr=[pr_std_s, pr_std_s]\n",
    "        )\n",
    "    plt.title(dataset)\n",
    "    plt.ylabel('Average Precision')\n",
    "    plt.axhline(pr_mean_dict[dataset]['full_data'], color='r')\n",
    "    plt.show()"
   ]
  },
  {
   "cell_type": "markdown",
   "metadata": {},
   "source": [
    "**Different over-sampling techniques work better in different datasets.**"
   ]
  },
  {
   "cell_type": "code",
   "execution_count": null,
   "metadata": {},
   "outputs": [],
   "source": []
  }
 ],
 "metadata": {
  "kernelspec": {
   "display_name": "fsml",
   "language": "python",
   "name": "fsml"
  },
  "language_info": {
   "codemirror_mode": {
    "name": "ipython",
    "version": 3
   },
   "file_extension": ".py",
   "mimetype": "text/x-python",
   "name": "python",
   "nbconvert_exporter": "python",
   "pygments_lexer": "ipython3",
   "version": "3.10.5"
  },
  "toc": {
   "base_numbering": 1,
   "nav_menu": {},
   "number_sections": true,
   "sideBar": true,
   "skip_h1_title": false,
   "title_cell": "Table of Contents",
   "title_sidebar": "Contents",
   "toc_cell": false,
   "toc_position": {},
   "toc_section_display": true,
   "toc_window_display": true
  }
 },
 "nbformat": 4,
 "nbformat_minor": 4
}
