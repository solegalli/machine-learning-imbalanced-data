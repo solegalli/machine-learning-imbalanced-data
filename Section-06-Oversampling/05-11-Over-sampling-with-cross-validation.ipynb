{
 "cells": [
  {
   "cell_type": "markdown",
   "metadata": {},
   "source": [
    "## Over-sampling with cross-validation\n",
    "\n",
    "When we train a classifier, we want it to predict an outcome in a real life dataset. The real datasets, most likely, also have a class imbalance. Thus, it is important to evaluate the performance of the classifier, on a data set with the same distribution of classes, as the one we expect in real life.\n",
    "\n",
    "This means, that the over-sampling methods should be performed on the dataset that we are going to use to train the classifier. But, **the performance of the model should be determined on a portion of the data, that was not re-sampled**.\n",
    "\n",
    "In this notebook, we will use the imbalanced-learn pipeline, to set up various over-sampling solutions, in a way that we train the model on re-sampled data, but we evaluate performance on non-resampled data."
   ]
  },
  {
   "cell_type": "code",
   "execution_count": 1,
   "metadata": {},
   "outputs": [],
   "source": [
    "from collections import Counter\n",
    "\n",
    "import pandas as pd\n",
    "import matplotlib.pyplot as plt\n",
    "\n",
    "from sklearn.ensemble import RandomForestClassifier\n",
    "from sklearn.metrics import roc_auc_score\n",
    "from sklearn.model_selection import train_test_split, cross_validate\n",
    "from sklearn.preprocessing import MinMaxScaler\n",
    "from sklearn.svm import SVC\n",
    "\n",
    "from imblearn.datasets import fetch_datasets\n",
    "\n",
    "# to correctly set up the cross-validation\n",
    "from imblearn.pipeline import make_pipeline\n",
    "\n",
    "\n",
    "from imblearn.over_sampling import (\n",
    "    RandomOverSampler,\n",
    "    SMOTE,\n",
    "    ADASYN,\n",
    "    BorderlineSMOTE,\n",
    "    SVMSMOTE,\n",
    ")"
   ]
  },
  {
   "cell_type": "code",
   "execution_count": 2,
   "metadata": {},
   "outputs": [],
   "source": [
    "oversampler_dict = {\n",
    "\n",
    "    'random': RandomOverSampler(\n",
    "        sampling_strategy='auto',\n",
    "        random_state=0),\n",
    "\n",
    "    'smote': SMOTE(\n",
    "        sampling_strategy='auto',  # samples only the minority class\n",
    "        random_state=0,  # for reproducibility\n",
    "        k_neighbors=5,\n",
    "        n_jobs=4),\n",
    "\n",
    "    'adasyn': ADASYN(\n",
    "        sampling_strategy='auto',  # samples only the minority class\n",
    "        random_state=0,  # for reproducibility\n",
    "        n_neighbors=5,\n",
    "        n_jobs=4),\n",
    "\n",
    "    'border1': BorderlineSMOTE(\n",
    "        sampling_strategy='auto',  # samples only the minority class\n",
    "        random_state=0,  # for reproducibility\n",
    "        k_neighbors=5,\n",
    "        m_neighbors=10,\n",
    "        kind='borderline-1',\n",
    "        n_jobs=4),\n",
    "\n",
    "    'border2': BorderlineSMOTE(\n",
    "        sampling_strategy='auto',  # samples only the minority class\n",
    "        random_state=0,  # for reproducibility\n",
    "        k_neighbors=5,\n",
    "        m_neighbors=10,\n",
    "        kind='borderline-2',\n",
    "        n_jobs=4),\n",
    "\n",
    "    'svm': SVMSMOTE(\n",
    "        sampling_strategy='auto',  # samples only the minority class\n",
    "        random_state=0,  # for reproducibility\n",
    "        k_neighbors=5,\n",
    "        m_neighbors=10,\n",
    "        n_jobs=4,\n",
    "        svm_estimator=SVC(kernel='linear')),\n",
    "}"
   ]
  },
  {
   "cell_type": "code",
   "execution_count": 3,
   "metadata": {},
   "outputs": [],
   "source": [
    "datasets_ls = [\n",
    "    'car_eval_34',\n",
    "    'ecoli',\n",
    "    'thyroid_sick',\n",
    "    'arrhythmia',\n",
    "    'ozone_level'\n",
    "]"
   ]
  },
  {
   "cell_type": "code",
   "execution_count": 4,
   "metadata": {},
   "outputs": [
    {
     "name": "stdout",
     "output_type": "stream",
     "text": [
      "car_eval_34\n",
      "Counter({-1: 1594, 1: 134})\n",
      "\n",
      "ecoli\n",
      "Counter({-1: 301, 1: 35})\n",
      "\n",
      "thyroid_sick\n",
      "Counter({-1: 3541, 1: 231})\n",
      "\n",
      "arrhythmia\n",
      "Counter({-1: 427, 1: 25})\n",
      "\n",
      "ozone_level\n",
      "Counter({-1: 2463, 1: 73})\n",
      "\n"
     ]
    }
   ],
   "source": [
    "# print class imbalance\n",
    "\n",
    "for dataset in datasets_ls:\n",
    "    data = fetch_datasets()[dataset]\n",
    "    print(dataset)\n",
    "    print(Counter(data.target))\n",
    "    print()"
   ]
  },
  {
   "cell_type": "code",
   "execution_count": 5,
   "metadata": {},
   "outputs": [],
   "source": [
    "# function to train random forests and evaluate the performance\n",
    "\n",
    "# ***with cross-validation***\n",
    "\n",
    "def run_model(X_train, y_train, oversampler=None):\n",
    "    \n",
    "    # set up the classifier\n",
    "    rf = RandomForestClassifier(\n",
    "            n_estimators=100, random_state=39, max_depth=3, n_jobs=4\n",
    "        )\n",
    "    \n",
    "    # set up a scaler \n",
    "    # (as the oversampling techniques use KNN\n",
    "    # we put the variables in the same scale)\n",
    "    scaler = MinMaxScaler()\n",
    "    \n",
    "    # without sampling:\n",
    "    if not oversampler:\n",
    "\n",
    "        model = rf\n",
    "    \n",
    "    # set up a pipeline with sampling:\n",
    "    else:\n",
    "        \n",
    "        # important to scale before the re-sampler\n",
    "        # as the many of methods require the variables in \n",
    "        # a similar scale\n",
    "        model = make_pipeline(\n",
    "            scaler,\n",
    "            oversampler,\n",
    "            rf,\n",
    "        )\n",
    "        \n",
    "        \n",
    "    # When we make a pipeline and then run the training of the model\n",
    "    # with cross-validation, the procedure works as follows:\n",
    "    \n",
    "    # 1) take 2 of the 3 fold as train set\n",
    "    # 2) resample the 2 fold (aka, the train set)\n",
    "    # 3) train the model on the resampled data from point 2\n",
    "    # 4) evaluate performance on the 3rd fold, that was not resampled\n",
    "    \n",
    "    # this way, we make sure that we are not evaluating the performance\n",
    "    # of our classifier on the over-sampled data\n",
    "    \n",
    "    cv_results = cross_validate(\n",
    "        model, # the random forest or the pipeline\n",
    "        X_train, # the data that will be used in the cross-validation\n",
    "        y_train, # the target\n",
    "        scoring=\"average_precision\", # the metric that we want to evaluate\n",
    "        cv=3, # the cross-validation fold\n",
    "    )\n",
    "\n",
    "    print(\n",
    "        'Random Forests average precision: {0} +/- {1}'.format(\n",
    "        cv_results['test_score'].mean(), cv_results['test_score'].std()\n",
    "        )\n",
    "    )\n",
    "\n",
    "    return cv_results['test_score'].mean(), cv_results['test_score'].std()"
   ]
  },
  {
   "cell_type": "code",
   "execution_count": 6,
   "metadata": {
    "scrolled": true
   },
   "outputs": [
    {
     "name": "stdout",
     "output_type": "stream",
     "text": [
      "car_eval_34\n",
      "Random Forests average precision: 0.74810907315696 +/- 0.06400476183857116\n",
      "\n",
      "random\n",
      "Random Forests average precision: 0.8433408505659911 +/- 0.07516648844294713\n",
      "\n",
      "smote\n",
      "Random Forests average precision: 0.799161726356635 +/- 0.06299511222351424\n",
      "\n",
      "adasyn\n",
      "Random Forests average precision: 0.8350198132335759 +/- 0.06334417984228251\n",
      "\n",
      "border1\n",
      "Random Forests average precision: 0.8329238005627132 +/- 0.05787117495290748\n",
      "\n",
      "border2\n",
      "Random Forests average precision: 0.8422458714349118 +/- 0.05973496265599144\n",
      "\n",
      "svm\n",
      "Random Forests average precision: 0.7438440287725605 +/- 0.05609132010915686\n",
      "\n",
      "\n",
      "ecoli\n",
      "Random Forests average precision: 0.6687434616841758 +/- 0.11512585309131046\n",
      "\n",
      "random\n",
      "Random Forests average precision: 0.5853702816801476 +/- 0.01634245823762112\n",
      "\n",
      "smote\n",
      "Random Forests average precision: 0.5902528240840609 +/- 0.05876172398967221\n",
      "\n",
      "adasyn\n",
      "Random Forests average precision: 0.5798786475869809 +/- 0.022512165969597257\n",
      "\n",
      "border1\n",
      "Random Forests average precision: 0.5823857212746102 +/- 0.02183396020270867\n",
      "\n",
      "border2\n",
      "Random Forests average precision: 0.510844376816599 +/- 0.022236042252700372\n",
      "\n",
      "svm\n",
      "Random Forests average precision: 0.5474609467584091 +/- 0.07975208316696016\n",
      "\n",
      "\n",
      "thyroid_sick\n",
      "Random Forests average precision: 0.7322649404994691 +/- 0.03975702483248152\n",
      "\n",
      "random\n",
      "Random Forests average precision: 0.7461089153983521 +/- 0.028677373714116376\n",
      "\n",
      "smote\n",
      "Random Forests average precision: 0.7499002753177826 +/- 0.03521238392967552\n",
      "\n",
      "adasyn\n",
      "Random Forests average precision: 0.7593592451647876 +/- 0.02809139413760137\n",
      "\n",
      "border1\n",
      "Random Forests average precision: 0.7553416740383195 +/- 0.01903504523119618\n",
      "\n",
      "border2\n",
      "Random Forests average precision: 0.6577550469571328 +/- 0.042431601620722015\n",
      "\n",
      "svm\n",
      "Random Forests average precision: 0.6944451394352287 +/- 0.027524247627882987\n",
      "\n",
      "\n",
      "arrhythmia\n",
      "Random Forests average precision: 0.3320173328945259 +/- 0.10781020512179744\n",
      "\n",
      "random\n",
      "Random Forests average precision: 0.19265498953657123 +/- 0.12365596272382529\n",
      "\n",
      "smote\n",
      "Random Forests average precision: 0.28094512870490346 +/- 0.11718707621453445\n",
      "\n",
      "adasyn\n",
      "Random Forests average precision: 0.2185836983512104 +/- 0.07903768849478739\n",
      "\n",
      "border1\n",
      "Random Forests average precision: 0.21519007716800587 +/- 0.06592152498631552\n",
      "\n",
      "border2\n",
      "Random Forests average precision: 0.1876581824781394 +/- 0.03144707497133219\n",
      "\n",
      "svm\n",
      "Random Forests average precision: 0.23643179018861182 +/- 0.058491639305909865\n",
      "\n",
      "\n",
      "ozone_level\n",
      "Random Forests average precision: 0.298375101953245 +/- 0.07219095034389264\n",
      "\n",
      "random\n",
      "Random Forests average precision: 0.3251610528628395 +/- 0.09466759595662527\n",
      "\n",
      "smote\n",
      "Random Forests average precision: 0.37317994941719634 +/- 0.05635440360271306\n",
      "\n",
      "adasyn\n",
      "Random Forests average precision: 0.3376059453382864 +/- 0.07914018212011442\n",
      "\n",
      "border1\n",
      "Random Forests average precision: 0.33355510425465623 +/- 0.05555623779583268\n",
      "\n",
      "border2\n",
      "Random Forests average precision: 0.36210565583379034 +/- 0.13885146701082263\n",
      "\n",
      "svm\n",
      "Random Forests average precision: 0.2942800285892107 +/- 0.07075513390130764\n",
      "\n",
      "\n"
     ]
    }
   ],
   "source": [
    "# now we train several models, with the different over-samplers and\n",
    "# with cross-validation for each dataset\n",
    "\n",
    "# to save the results\n",
    "pr_mean_dict = {}\n",
    "pr_std_dict = {}\n",
    "\n",
    "\n",
    "for dataset in datasets_ls:\n",
    "    \n",
    "    # initiate a dictionary per dataset\n",
    "    pr_mean_dict[dataset] = {}\n",
    "    pr_std_dict[dataset] = {}\n",
    "    \n",
    "    print(dataset)\n",
    "    \n",
    "    # load dataset\n",
    "    data = fetch_datasets()[dataset]\n",
    "    \n",
    "    # separate dataset into train and test\n",
    "    X_train, X_test, y_train, y_test = train_test_split(\n",
    "        data.data,  \n",
    "        data.target, \n",
    "        test_size=0.3,\n",
    "        random_state=0,\n",
    "    )\n",
    "   \n",
    "    \n",
    "    # train model on data without re-sampling\n",
    "    # with cross-validation\n",
    "    aps_mean, aps_std = run_model(X_train, y_train)\n",
    "    \n",
    "    # store results\n",
    "    pr_mean_dict[dataset]['full_data'] = aps_mean\n",
    "    pr_std_dict[dataset]['full_data'] = aps_std\n",
    "    \n",
    "    print()\n",
    "    \n",
    "    for oversampler in oversampler_dict.keys():\n",
    "        \n",
    "        print(oversampler)\n",
    "               \n",
    "        # resample, train and evaluate performance\n",
    "        # with cross-validation\n",
    "        aps_mean, aps_std = run_model(X_train, y_train, oversampler_dict[oversampler])\n",
    "        \n",
    "        #store results\n",
    "        pr_mean_dict[dataset][oversampler] = aps_mean\n",
    "        pr_std_dict[dataset][oversampler] = aps_std\n",
    "        print()\n",
    "        \n",
    "    print()"
   ]
  },
  {
   "cell_type": "code",
   "execution_count": 7,
   "metadata": {},
   "outputs": [
    {
     "data": {
      "image/png": "[encoded data removed]",
      "text/plain": [
       "<Figure size 432x288 with 1 Axes>"
      ]
     },
     "metadata": {
      "needs_background": "light"
     },
     "output_type": "display_data"
    },
    {
     "data": {
      "image/png": "[encoded data removed]",
      "text/plain": [
       "<Figure size 432x288 with 1 Axes>"
      ]
     },
     "metadata": {
      "needs_background": "light"
     },
     "output_type": "display_data"
    },
    {
     "data": {
      "image/png": "[encoded data removed]",
      "text/plain": [
       "<Figure size 432x288 with 1 Axes>"
      ]
     },
     "metadata": {
      "needs_background": "light"
     },
     "output_type": "display_data"
    },
    {
     "data": {
      "image/png": "[encoded data removed]",
      "text/plain": [
       "<Figure size 432x288 with 1 Axes>"
      ]
     },
     "metadata": {
      "needs_background": "light"
     },
     "output_type": "display_data"
    },
    {
     "data": {
      "image/png": "[encoded data removed]",
      "text/plain": [
       "<Figure size 432x288 with 1 Axes>"
      ]
     },
     "metadata": {
      "needs_background": "light"
     },
     "output_type": "display_data"
    }
   ],
   "source": [
    "# Now we plot the performance of the model in the \n",
    "# left out fold, that was not resampled, from the X_train\n",
    "\n",
    "for dataset in datasets_ls:\n",
    "    \n",
    "    pr_mean_s = pd.Series(pr_mean_dict[dataset])\n",
    "    pr_std_s = pd.Series(pr_std_dict[dataset])\n",
    "    \n",
    "    pr_mean_s.plot.bar(yerr=[pr_std_s, pr_std_s]\n",
    "        )\n",
    "    plt.title(dataset)\n",
    "    plt.ylabel('Average Precision')\n",
    "    plt.axhline(pr_mean_dict[dataset]['full_data'], color='r')\n",
    "    plt.show()"
   ]
  },
  {
   "cell_type": "markdown",
   "metadata": {},
   "source": [
    "**Different over-sampling techniques work better in different datasets.**"
   ]
  },
  {
   "cell_type": "code",
   "execution_count": null,
   "metadata": {},
   "outputs": [],
   "source": []
  }
 ],
 "metadata": {
  "kernelspec": {
   "display_name": "imbalanced",
   "language": "python",
   "name": "imbalanced"
  },
  "language_info": {
   "codemirror_mode": {
    "name": "ipython",
    "version": 3
   },
   "file_extension": ".py",
   "mimetype": "text/x-python",
   "name": "python",
   "nbconvert_exporter": "python",
   "pygments_lexer": "ipython3",
   "version": "3.8.2"
  },
  "toc": {
   "base_numbering": 1,
   "nav_menu": {},
   "number_sections": true,
   "sideBar": true,
   "skip_h1_title": false,
   "title_cell": "Table of Contents",
   "title_sidebar": "Contents",
   "toc_cell": false,
   "toc_position": {},
   "toc_section_display": true,
   "toc_window_display": false
  }
 },
 "nbformat": 4,
 "nbformat_minor": 4
}
