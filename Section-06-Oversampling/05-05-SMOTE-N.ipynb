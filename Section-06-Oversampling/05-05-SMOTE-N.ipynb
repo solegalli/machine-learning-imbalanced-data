{
 "cells": [
  {
   "cell_type": "markdown",
   "metadata": {},
   "source": [
    "## SMOTE-N\n",
    "\n",
    "In this notebook, we will cover the essentials of SMOTE-N and the Value Difference Metric.\n",
    "\n",
    "- First, we will calculate the difference between values and observations using the VDM\n",
    "- Second, we will implement SMOTE-N with imbalanced learn."
   ]
  },
  {
   "cell_type": "code",
   "execution_count": 1,
   "metadata": {},
   "outputs": [],
   "source": [
    "import numpy as np\n",
    "import pandas as pd\n",
    "import matplotlib.pyplot as plt\n",
    "import seaborn as sns\n",
    "\n",
    "from sklearn.datasets import make_blobs\n",
    "from sklearn.preprocessing import OrdinalEncoder\n",
    "\n",
    "from imblearn.metrics.pairwise import ValueDifferenceMetric\n",
    "from imblearn.over_sampling import SMOTEN"
   ]
  },
  {
   "cell_type": "markdown",
   "metadata": {},
   "source": [
    "## Distance between values"
   ]
  },
  {
   "cell_type": "code",
   "execution_count": 2,
   "metadata": {},
   "outputs": [
    {
     "data": {
      "text/plain": [
       "[array([[0.9, 0.1],\n",
       "        [0.2, 0.8],\n",
       "        [0.3, 0.7]])]"
      ]
     },
     "execution_count": 2,
     "metadata": {},
     "output_type": "execute_result"
    }
   ],
   "source": [
    "# create a dataset with 1 feature\n",
    "\n",
    "X = np.array([\"green\"] * 10 + [\"red\"] * 10 + [\"blue\"] * 10).reshape(-1, 1)\n",
    "y = [1] * 8 + [0] * 5 + [1] * 7 + [0] * 9 + [1]\n",
    "\n",
    "# the function \"ValueDifferenceMetric\" works\n",
    "# only with encoded variables, so we need to transform\n",
    "# the strings into numbers first\n",
    "\n",
    "encoder = OrdinalEncoder(dtype=np.int32)\n",
    "X_enc = encoder.fit_transform(X)\n",
    "\n",
    "# Now, we can learn the distances\n",
    "# I put r=1 so we have the same results that I showed\n",
    "# previously in the slides, for comparison\n",
    "vdm = ValueDifferenceMetric(r=1).fit(X_enc, y)\n",
    "\n",
    "# the conditional probabilities of a value given the\n",
    "# class are stored, for each value\n",
    "\n",
    "vdm.proba_per_class_"
   ]
  },
  {
   "cell_type": "code",
   "execution_count": 3,
   "metadata": {},
   "outputs": [
    {
     "data": {
      "text/plain": [
       "[array(['blue', 'green', 'red'], dtype='<U5')]"
      ]
     },
     "execution_count": 3,
     "metadata": {},
     "output_type": "execute_result"
    }
   ],
   "source": [
    "# and if you are wondering, which class is displayed first\n",
    "# they come as stored in the categories_ attribute of\n",
    "# the encoder\n",
    "\n",
    "encoder.categories_"
   ]
  },
  {
   "cell_type": "code",
   "execution_count": 4,
   "metadata": {},
   "outputs": [
    {
     "data": {
      "text/plain": [
       "array([[0. , 0.2, 1.2],\n",
       "       [0.2, 0. , 1.4],\n",
       "       [1.2, 1.4, 0. ]])"
      ]
     },
     "execution_count": 4,
     "metadata": {},
     "output_type": "execute_result"
    }
   ],
   "source": [
    "# Find the distances between 3 different values\n",
    "\n",
    "# create the example\n",
    "X_test = np.array([\"red\", \"green\", \"blue\"]).reshape(-1, 1)\n",
    "\n",
    "# encode the example\n",
    "X_test_enc = encoder.transform(X_test)\n",
    "\n",
    "# determine the distances\n",
    "vdm.pairwise(X_test_enc)"
   ]
  },
  {
   "cell_type": "markdown",
   "metadata": {},
   "source": [
    "## Distance between vectors\n",
    "\n",
    "Now, instead of having a single value, we will determine distances in vectors"
   ]
  },
  {
   "cell_type": "code",
   "execution_count": 5,
   "metadata": {},
   "outputs": [
    {
     "data": {
      "text/html": [
       "<div>\n",
       "<style scoped>\n",
       "    .dataframe tbody tr th:only-of-type {\n",
       "        vertical-align: middle;\n",
       "    }\n",
       "\n",
       "    .dataframe tbody tr th {\n",
       "        vertical-align: top;\n",
       "    }\n",
       "\n",
       "    .dataframe thead th {\n",
       "        text-align: right;\n",
       "    }\n",
       "</style>\n",
       "<table border=\"1\" class=\"dataframe\">\n",
       "  <thead>\n",
       "    <tr style=\"text-align: right;\">\n",
       "      <th></th>\n",
       "      <th>colour</th>\n",
       "      <th>condition</th>\n",
       "    </tr>\n",
       "  </thead>\n",
       "  <tbody>\n",
       "    <tr>\n",
       "      <th>0</th>\n",
       "      <td>green</td>\n",
       "      <td>used</td>\n",
       "    </tr>\n",
       "    <tr>\n",
       "      <th>1</th>\n",
       "      <td>green</td>\n",
       "      <td>new</td>\n",
       "    </tr>\n",
       "    <tr>\n",
       "      <th>2</th>\n",
       "      <td>green</td>\n",
       "      <td>used</td>\n",
       "    </tr>\n",
       "    <tr>\n",
       "      <th>3</th>\n",
       "      <td>green</td>\n",
       "      <td>new</td>\n",
       "    </tr>\n",
       "    <tr>\n",
       "      <th>4</th>\n",
       "      <td>green</td>\n",
       "      <td>new</td>\n",
       "    </tr>\n",
       "  </tbody>\n",
       "</table>\n",
       "</div>"
      ],
      "text/plain": [
       "  colour condition\n",
       "0  green      used\n",
       "1  green       new\n",
       "2  green      used\n",
       "3  green       new\n",
       "4  green       new"
      ]
     },
     "execution_count": 5,
     "metadata": {},
     "output_type": "execute_result"
    }
   ],
   "source": [
    "# We create a dataframe that contains 2 features\n",
    "\n",
    "# 2 features\n",
    "X = pd.concat([\n",
    "    pd.Series(np.array([\"green\"] * 10 + [\"red\"] * 10 + [\"blue\"] * 10)),\n",
    "    \n",
    "    pd.Series(np.array([\"used\"] + [\"new\"] + [\"used\"] + [\"new\"] * 2 +\n",
    "                       [\"used\"] * 2 + [\"new\"] * 3 + [\"used\"] * 4 + \n",
    "                       [\"new\"] * 6 + [\"used\"] * 6 + [\"new\"] * 4)),\n",
    "    ], axis=1)\n",
    "\n",
    "X.columns = ['colour', 'condition']\n",
    "\n",
    "# target\n",
    "y = [1] * 8 + [0] * 5 + [1] * 7 + [0] * 9 + [1]\n",
    "\n",
    "X.head()"
   ]
  },
  {
   "cell_type": "code",
   "execution_count": 6,
   "metadata": {},
   "outputs": [],
   "source": [
    "# the function \"ValueDifferenceMetric\" works\n",
    "# only with encoded variables, so we need to transform\n",
    "# the strings into numbers first\n",
    "\n",
    "encoder = OrdinalEncoder(dtype=np.int32)\n",
    "X_enc = encoder.fit_transform(X)"
   ]
  },
  {
   "cell_type": "code",
   "execution_count": 7,
   "metadata": {},
   "outputs": [
    {
     "data": {
      "text/plain": [
       "[array([[0.9, 0.1],\n",
       "        [0.2, 0.8],\n",
       "        [0.3, 0.7]]),\n",
       " array([[0.3125    , 0.6875    ],\n",
       "        [0.64285714, 0.35714286]])]"
      ]
     },
     "execution_count": 7,
     "metadata": {},
     "output_type": "execute_result"
    }
   ],
   "source": [
    "# Now, we can learn the distances\n",
    "# I put r=1 so we have the same results that I showed\n",
    "# previously in the slides, for comparison\n",
    "\n",
    "vdm = ValueDifferenceMetric(r=2).fit(X_enc, y)\n",
    "\n",
    "\n",
    "# the conditional probabilities of a value given the\n",
    "# class are stored, for each value and for each variable\n",
    "\n",
    "vdm.proba_per_class_"
   ]
  },
  {
   "cell_type": "code",
   "execution_count": 8,
   "metadata": {},
   "outputs": [
    {
     "data": {
      "text/html": [
       "<div>\n",
       "<style scoped>\n",
       "    .dataframe tbody tr th:only-of-type {\n",
       "        vertical-align: middle;\n",
       "    }\n",
       "\n",
       "    .dataframe tbody tr th {\n",
       "        vertical-align: top;\n",
       "    }\n",
       "\n",
       "    .dataframe thead th {\n",
       "        text-align: right;\n",
       "    }\n",
       "</style>\n",
       "<table border=\"1\" class=\"dataframe\">\n",
       "  <thead>\n",
       "    <tr style=\"text-align: right;\">\n",
       "      <th></th>\n",
       "      <th>colour</th>\n",
       "      <th>condition</th>\n",
       "    </tr>\n",
       "  </thead>\n",
       "  <tbody>\n",
       "    <tr>\n",
       "      <th>0</th>\n",
       "      <td>green</td>\n",
       "      <td>used</td>\n",
       "    </tr>\n",
       "    <tr>\n",
       "      <th>1</th>\n",
       "      <td>green</td>\n",
       "      <td>new</td>\n",
       "    </tr>\n",
       "    <tr>\n",
       "      <th>2</th>\n",
       "      <td>red</td>\n",
       "      <td>used</td>\n",
       "    </tr>\n",
       "    <tr>\n",
       "      <th>3</th>\n",
       "      <td>red</td>\n",
       "      <td>new</td>\n",
       "    </tr>\n",
       "  </tbody>\n",
       "</table>\n",
       "</div>"
      ],
      "text/plain": [
       "  colour condition\n",
       "0  green      used\n",
       "1  green       new\n",
       "2    red      used\n",
       "3    red       new"
      ]
     },
     "execution_count": 8,
     "metadata": {},
     "output_type": "execute_result"
    }
   ],
   "source": [
    "# Now we create some new data with some vector\n",
    "# combinations of the 2 variables\n",
    "\n",
    "X_test = pd.concat([\n",
    "    pd.Series(np.array([\"green\"]+[\"green\"]+[\"red\"]+[\"red\"])),\n",
    "    pd.Series(np.array([\"used\"] + [\"new\"] + [\"used\"] + [\"new\"])),\n",
    "], axis=1)\n",
    "\n",
    "\n",
    "X_test.columns = ['colour', 'condition']\n",
    "\n",
    "X_test"
   ]
  },
  {
   "cell_type": "code",
   "execution_count": 9,
   "metadata": {},
   "outputs": [
    {
     "data": {
      "text/plain": [
       "array([[0.        , 0.43654337, 0.04      , 0.47654337],\n",
       "       [0.43654337, 0.        , 0.47654337, 0.04      ],\n",
       "       [0.04      , 0.47654337, 0.        , 0.43654337],\n",
       "       [0.47654337, 0.04      , 0.43654337, 0.        ]])"
      ]
     },
     "execution_count": 9,
     "metadata": {},
     "output_type": "execute_result"
    }
   ],
   "source": [
    "# we encode them first into numnbers\n",
    "X_test_enc = encoder.transform(X_test)\n",
    "\n",
    "\n",
    "# and not, we determine the distance, which is going\n",
    "# to output the distance of all possible combinations\n",
    "# of the vectors\n",
    "\n",
    "vdm.pairwise(X_test_enc)"
   ]
  },
  {
   "cell_type": "markdown",
   "metadata": {},
   "source": [
    "## SMOTE-N\n",
    "\n",
    "[SMOTE-N](https://imbalanced-learn.org/stable/references/generated/imblearn.over_sampling.SMOTEN.html)"
   ]
  },
  {
   "cell_type": "code",
   "execution_count": 10,
   "metadata": {},
   "outputs": [
    {
     "data": {
      "text/plain": [
       "((1600, 3), (1600,))"
      ]
     },
     "execution_count": 10,
     "metadata": {},
     "output_type": "execute_result"
    }
   ],
   "source": [
    "# Create some data\n",
    "\n",
    "rng = np.random.RandomState(42)\n",
    "num_samples = 1600\n",
    "\n",
    "X = pd.concat([\n",
    "    pd.Series(rng.choice(['Blue', 'Green', 'Red'], size=num_samples).astype(object)),\n",
    "    pd.Series(rng.choice(['New', 'Used'], size=num_samples).astype(object)),\n",
    "    pd.Series(rng.choice(['Classic', 'Luxus', 'Smart', 'Small'], size=num_samples).astype(object)),\n",
    "], axis=1)\n",
    "\n",
    "X.columns = ['Colour', 'Condition', 'Model']\n",
    "\n",
    "y = pd.Series(rng.binomial(p=0.1, n=1, size=num_samples))\n",
    "\n",
    "# display size\n",
    "X.shape, y.shape"
   ]
  },
  {
   "cell_type": "code",
   "execution_count": 11,
   "metadata": {},
   "outputs": [
    {
     "data": {
      "text/plain": [
       "0    1443\n",
       "1     157\n",
       "dtype: int64"
      ]
     },
     "execution_count": 11,
     "metadata": {},
     "output_type": "execute_result"
    }
   ],
   "source": [
    "# y is imbalanced\n",
    "\n",
    "y.value_counts()"
   ]
  },
  {
   "cell_type": "code",
   "execution_count": 12,
   "metadata": {},
   "outputs": [
    {
     "data": {
      "text/html": [
       "<div>\n",
       "<style scoped>\n",
       "    .dataframe tbody tr th:only-of-type {\n",
       "        vertical-align: middle;\n",
       "    }\n",
       "\n",
       "    .dataframe tbody tr th {\n",
       "        vertical-align: top;\n",
       "    }\n",
       "\n",
       "    .dataframe thead th {\n",
       "        text-align: right;\n",
       "    }\n",
       "</style>\n",
       "<table border=\"1\" class=\"dataframe\">\n",
       "  <thead>\n",
       "    <tr style=\"text-align: right;\">\n",
       "      <th></th>\n",
       "      <th>Colour</th>\n",
       "      <th>Condition</th>\n",
       "      <th>Model</th>\n",
       "    </tr>\n",
       "  </thead>\n",
       "  <tbody>\n",
       "    <tr>\n",
       "      <th>0</th>\n",
       "      <td>Red</td>\n",
       "      <td>Used</td>\n",
       "      <td>Luxus</td>\n",
       "    </tr>\n",
       "    <tr>\n",
       "      <th>1</th>\n",
       "      <td>Blue</td>\n",
       "      <td>New</td>\n",
       "      <td>Small</td>\n",
       "    </tr>\n",
       "    <tr>\n",
       "      <th>2</th>\n",
       "      <td>Red</td>\n",
       "      <td>Used</td>\n",
       "      <td>Luxus</td>\n",
       "    </tr>\n",
       "    <tr>\n",
       "      <th>3</th>\n",
       "      <td>Red</td>\n",
       "      <td>New</td>\n",
       "      <td>Small</td>\n",
       "    </tr>\n",
       "    <tr>\n",
       "      <th>4</th>\n",
       "      <td>Blue</td>\n",
       "      <td>Used</td>\n",
       "      <td>Luxus</td>\n",
       "    </tr>\n",
       "  </tbody>\n",
       "</table>\n",
       "</div>"
      ],
      "text/plain": [
       "  Colour Condition  Model\n",
       "0    Red      Used  Luxus\n",
       "1   Blue       New  Small\n",
       "2    Red      Used  Luxus\n",
       "3    Red       New  Small\n",
       "4   Blue      Used  Luxus"
      ]
     },
     "execution_count": 12,
     "metadata": {},
     "output_type": "execute_result"
    }
   ],
   "source": [
    "# X is categorical\n",
    "\n",
    "X.head()"
   ]
  },
  {
   "cell_type": "code",
   "execution_count": 13,
   "metadata": {},
   "outputs": [
    {
     "name": "stdout",
     "output_type": "stream",
     "text": [
      "Blue     0.344375\n",
      "Red      0.328750\n",
      "Green    0.326875\n",
      "Name: Colour, dtype: float64\n",
      "\n",
      "Used    0.51125\n",
      "New     0.48875\n",
      "Name: Condition, dtype: float64\n",
      "\n",
      "Small      0.256250\n",
      "Classic    0.255625\n",
      "Smart      0.251875\n",
      "Luxus      0.236250\n",
      "Name: Model, dtype: float64\n",
      "\n"
     ]
    }
   ],
   "source": [
    "for var in X.columns:\n",
    "    print(X[var].value_counts(normalize=True))\n",
    "    print()"
   ]
  },
  {
   "cell_type": "code",
   "execution_count": 14,
   "metadata": {},
   "outputs": [],
   "source": [
    "# set up SMOTE\n",
    "\n",
    "sampler = SMOTEN(\n",
    "    sampling_strategy='auto', # samples only the minority class\n",
    "    random_state=0,  # for reproducibility\n",
    "    k_neighbors=5,\n",
    "    n_jobs=4,\n",
    ")\n",
    "\n",
    "X_res, y_res = sampler.fit_resample(X, y)"
   ]
  },
  {
   "cell_type": "code",
   "execution_count": 15,
   "metadata": {},
   "outputs": [
    {
     "name": "stdout",
     "output_type": "stream",
     "text": [
      "Blue     0.343728\n",
      "Green    0.331254\n",
      "Red      0.325017\n",
      "Name: Colour, dtype: float64\n",
      "\n",
      "Used    0.517325\n",
      "New     0.482675\n",
      "Name: Condition, dtype: float64\n",
      "\n",
      "Smart      0.273042\n",
      "Classic    0.258143\n",
      "Small      0.241511\n",
      "Luxus      0.227304\n",
      "Name: Model, dtype: float64\n",
      "\n"
     ]
    }
   ],
   "source": [
    "for var in X.columns:\n",
    "    print(X_res[var].value_counts(normalize=True))\n",
    "    print()"
   ]
  },
  {
   "cell_type": "code",
   "execution_count": 16,
   "metadata": {},
   "outputs": [
    {
     "data": {
      "text/plain": [
       "1    1443\n",
       "0    1443\n",
       "dtype: int64"
      ]
     },
     "execution_count": 16,
     "metadata": {},
     "output_type": "execute_result"
    }
   ],
   "source": [
    "# y_res is balanced\n",
    "\n",
    "y_res.value_counts()"
   ]
  },
  {
   "cell_type": "code",
   "execution_count": null,
   "metadata": {},
   "outputs": [],
   "source": []
  }
 ],
 "metadata": {
  "kernelspec": {
   "display_name": "imbalanced",
   "language": "python",
   "name": "imbalanced"
  },
  "language_info": {
   "codemirror_mode": {
    "name": "ipython",
    "version": 3
   },
   "file_extension": ".py",
   "mimetype": "text/x-python",
   "name": "python",
   "nbconvert_exporter": "python",
   "pygments_lexer": "ipython3",
   "version": "3.8.2"
  },
  "toc": {
   "base_numbering": 1,
   "nav_menu": {},
   "number_sections": true,
   "sideBar": true,
   "skip_h1_title": false,
   "title_cell": "Table of Contents",
   "title_sidebar": "Contents",
   "toc_cell": false,
   "toc_position": {},
   "toc_section_display": true,
   "toc_window_display": true
  }
 },
 "nbformat": 4,
 "nbformat_minor": 4
}
